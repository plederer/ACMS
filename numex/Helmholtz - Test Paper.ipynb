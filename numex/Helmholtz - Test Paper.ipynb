{
 "cells": [
  {
   "cell_type": "code",
   "execution_count": 1,
   "id": "e33db3e5",
   "metadata": {
    "scrolled": true
   },
   "outputs": [],
   "source": [
    "from ngsolve import *\n",
    "from netgen.geom2d import *\n",
    "\n",
    "import numpy as np\n",
    "import scipy.linalg\n",
    "import scipy.sparse as sp\n",
    "\n",
    "from netgen.occ import *\n",
    "\n",
    "from helping_functions import *\n",
    "\n",
    "from ngsolve.webgui import Draw\n",
    "import matplotlib.pyplot as plt\n",
    "import csv\n"
   ]
  },
  {
   "cell_type": "code",
   "execution_count": 2,
   "id": "d1aeae1d",
   "metadata": {
    "scrolled": true
   },
   "outputs": [
    {
     "name": "stdout",
     "output_type": "stream",
     "text": [
      "389\n",
      "('om0', 'om1', 'om2', 'om3', 'om4', 'om5', 'om6', 'om7')\n",
      "('c0', 'c1', 'c2', 'c3', 'm0', 'm1', 'm2', 'm3', 'm4', 'm5', 'm6', 'm7')\n",
      "('V0', 'V1', 'V2', 'V3', 'V4', 'V5', 'V6', 'V7', 'V8')\n"
     ]
    }
   ],
   "source": [
    "# DOMAIN CONSTRUCTION Omega = B1(0)\n",
    "# Division in 8 subdomains\n",
    "\n",
    "geo = SplineGeometry()\n",
    "Points = [(0,-1), (1,-1), (1,0), \n",
    "          (1,1), (0,1), (-1,1),\n",
    "          (-1,0), (-1,-1), (0,0)]\n",
    "\n",
    "bcs_edge = [\"c0\", \"c1\", \"c2\", \"c3\", \n",
    "            \"m0\", \"m1\", \"m2\", \"m3\",\n",
    "            \"m4\", \"m5\", \"m6\", \"m7\"]\n",
    "\n",
    "for i, pnt in enumerate(Points):\n",
    "    geo.AddPoint(*pnt, name = \"V\" + str(i))\n",
    "\n",
    "geo.Append([\"spline3\", 0, 1, 2], leftdomain=1, rightdomain=0, bc=\"c0\")\n",
    "geo.Append([\"spline3\", 2, 3, 4], leftdomain=2, rightdomain=0, bc=\"c1\")\n",
    "geo.Append([\"spline3\", 4, 5, 6], leftdomain=3, rightdomain=0, bc=\"c2\")\n",
    "geo.Append([\"spline3\", 6, 7, 0], leftdomain=4, rightdomain=0, bc=\"c3\")\n",
    "geo.Append([\"line\", 0, 2], leftdomain=5, rightdomain=1, bc=\"m0\")\n",
    "geo.Append([\"line\", 2, 4], leftdomain=6, rightdomain=2, bc=\"m1\")\n",
    "geo.Append([\"line\", 4, 6], leftdomain=7, rightdomain=3, bc=\"m2\")\n",
    "geo.Append([\"line\", 6, 0], leftdomain=8, rightdomain=4, bc=\"m3\")\n",
    "\n",
    "geo.Append([\"line\", 8, 0], leftdomain=5, rightdomain=8, bc=\"m4\")\n",
    "geo.Append([\"line\", 8, 2], leftdomain=6, rightdomain=5, bc=\"m5\")\n",
    "geo.Append([\"line\", 8, 4], leftdomain=7, rightdomain=6, bc=\"m6\")\n",
    "geo.Append([\"line\", 8, 6], leftdomain=8, rightdomain=7, bc=\"m7\")\n",
    "\n",
    "# geo = SplineGeometry()\n",
    "# geo.AddCircle ( (0, 0), r=1, leftdomain=1, rightdomain=0, )\n",
    "ngmesh = geo.GenerateMesh(maxh= 0.1) #Too much 0.0013\n",
    "\n",
    "\n",
    "\n",
    "\n",
    "mesh = Mesh(ngmesh)\n",
    "for i in range(8):\n",
    "    mesh.ngmesh.SetMaterial(i+1,\"om\" + str(i))\n",
    "\n",
    "#Draw(mesh)\n",
    "print(mesh.nv)\n",
    "# quit()\n",
    "print(mesh.GetMaterials())\n",
    "print(mesh.GetBoundaries())\n",
    "print(mesh.GetBBoundaries())\n",
    "# input()\n",
    "\n",
    "dom_bnd = \"c0|c1|c2|c3\"\n",
    "\n"
   ]
  },
  {
   "cell_type": "code",
   "execution_count": null,
   "id": "600a0182",
   "metadata": {},
   "outputs": [],
   "source": [
    "#Draw(mesh)"
   ]
  },
  {
   "cell_type": "markdown",
   "id": "52e67f27",
   "metadata": {},
   "source": [
    "**Helmholtz problem description - Plane wave**\n",
    "\n",
    "$- div (a \\nabla u) - k^2 u  = f$ in $\\Omega = B_1(0)$,\n",
    "\n",
    "$ a \\partial_n u - i \\omega \\beta u = g $ on $\\partial \\Omega = \\Gamma_R$. \n",
    "\n",
    "\n",
    "In this example we have:\n",
    "\n",
    "$a=1$, \n",
    "\n",
    "$c=1$, \n",
    "\n",
    "$\\beta=1$, \n",
    "\n",
    "$\\omega=2$, \n",
    "\n",
    "$k = \\omega (0.6,0.8)$,\n",
    "\n",
    "$f=0$,\n",
    "\n",
    "$g= -i \\left((0.6 x + 0.8 y) + \\beta \\right) \\exp^{-i (0.6 x + 0.8 y)}$\n",
    "\n",
    "$u_{ex} = \\exp^{-i (0.6 x + 0.8 y)}$."
   ]
  },
  {
   "cell_type": "code",
   "execution_count": 3,
   "id": "e96fd7d5",
   "metadata": {
    "scrolled": true
   },
   "outputs": [],
   "source": [
    "#Problem setting - PLANE WAVE\n",
    "\n",
    "omega = 1\n",
    "#CF = CoefficientFunction\n",
    "kappa = omega\n",
    "k = kappa * CF((0.6,0.8))\n",
    "beta = 1\n",
    "f = 0\n",
    "u_ex = exp(-1J * (k[0] * x + k[1] * y))\n",
    "g = -1j * kappa * (k[0] * x + k[1] * y) * u_ex - 1j *beta * u_ex\n",
    "Du_ex = CF((u_ex.Diff(x), u_ex.Diff(y)))\n",
    "\n",
    "#Draw(g.real, mesh, \"u_ex\")\n",
    "#Draw(g.imag, mesh, \"u_ex\")\n"
   ]
  },
  {
   "cell_type": "code",
   "execution_count": null,
   "id": "68dc2b6f",
   "metadata": {},
   "outputs": [],
   "source": []
  },
  {
   "cell_type": "markdown",
   "id": "8bb1ad88",
   "metadata": {},
   "source": [
    "**Helmholtz problem description - Interior source**\n",
    "\n",
    "$- div (a \\nabla u) - k^2 u  = f$ in $\\Omega = B_1(0)$,\n",
    "\n",
    "$ a \\partial_n u - i \\omega \\beta u = g $ on $\\partial \\Omega = \\Gamma_R$. \n",
    "\n",
    "\n",
    "In this example we have:\n",
    "\n",
    "$a=1$, \n",
    "\n",
    "$c=1$, \n",
    "\n",
    "$\\beta=1$, \n",
    "\n",
    "$\\omega=1$, \n",
    "\n",
    "$k = \\omega$,\n",
    "\n",
    "$f=\\exp^{(-200 |x-x_c|^2)}$, with $x_c = (1/3,1/3)$,\n",
    "\n",
    "$g= 0$."
   ]
  },
  {
   "cell_type": "code",
   "execution_count": null,
   "id": "d6a09368",
   "metadata": {
    "scrolled": true
   },
   "outputs": [],
   "source": [
    "class Point:\n",
    "    \"\"\" Point class for representing and manipulating x,y coordinates. \"\"\"\n",
    "\n",
    "    def __init__(self):\n",
    "        \"\"\" Create a new point at the origin \"\"\"\n",
    "        self.x = 0\n",
    "        self.y = 0"
   ]
  },
  {
   "cell_type": "code",
   "execution_count": null,
   "id": "88e3de0c",
   "metadata": {
    "scrolled": true
   },
   "outputs": [],
   "source": [
    "#Problem setting - INTERIOR SOURCE\n",
    "\n",
    "omega = 1\n",
    "kappa = omega\n",
    "beta = 1\n",
    "p = (1/3, 1/3)\n",
    "P = Point()\n",
    "P.x = 1/3\n",
    "P.y = 1/3\n",
    "\n",
    "f = exp(-200 * ((x-P.x)**2 + (y-P.y)**2)) \n",
    "g = 0\n"
   ]
  },
  {
   "cell_type": "code",
   "execution_count": null,
   "id": "b2a3bc90",
   "metadata": {
    "scrolled": true
   },
   "outputs": [],
   "source": []
  },
  {
   "cell_type": "code",
   "execution_count": null,
   "id": "6928ea5c",
   "metadata": {
    "scrolled": true
   },
   "outputs": [],
   "source": []
  },
  {
   "cell_type": "code",
   "execution_count": 4,
   "id": "626fd8d5",
   "metadata": {
    "scrolled": true
   },
   "outputs": [],
   "source": [
    "# Coefficients\n",
    "\n",
    "order_v = [1,2] # The following error is due to low resolution -> refine mesh\n",
    "             # Cannot use scipy.linalg.eig for sparse A with k >= N - 1.\n",
    "    \n",
    "Bubble_modes = [1,2]#,2,4,8,16,32,64,128]\n",
    "Edge_modes = [1,2,4]#,32,64,128,256] #[24; 28; : : : ; 3072] #We have 12 edges\n",
    "max_bm = Bubble_modes[-1]\n",
    "max_em = Edge_modes[-1]\n"
   ]
  },
  {
   "cell_type": "code",
   "execution_count": null,
   "id": "1cc822a0",
   "metadata": {
    "scrolled": true
   },
   "outputs": [],
   "source": []
  },
  {
   "cell_type": "code",
   "execution_count": 5,
   "id": "4969568c",
   "metadata": {},
   "outputs": [
    {
     "name": "stdout",
     "output_type": "stream",
     "text": [
      "FEM finished\n"
     ]
    }
   ],
   "source": [
    "#Computing the FEM solution /  ground truth solution with higher resolution\n",
    "V = H1(mesh, order = 3, complex = True)\n",
    "u, v = V.TnT()\n",
    "\n",
    "\n",
    "a = BilinearForm(V)\n",
    "a += grad(u) * grad(v) * dx() \n",
    "a += - kappa**2 * u * v * dx()  \n",
    "a += -1J * omega * beta * u * v * ds(dom_bnd)\n",
    "a.Assemble()\n",
    "\n",
    "l = LinearForm(V)\n",
    "l += f * v * dx(bonus_intorder=10)\n",
    "l += g * v * ds(dom_bnd,bonus_intorder=10)\n",
    "l.Assemble()\n",
    "\n",
    "gfu_ex = GridFunction(V)\n",
    "ainv = a.mat.Inverse(V.FreeDofs(), inverse = \"sparsecholesky\")\n",
    "gfu_ex.vec.data = ainv * l.vec\n",
    "print(\"FEM finished\")"
   ]
  },
  {
   "cell_type": "code",
   "execution_count": null,
   "id": "8ada13c1",
   "metadata": {},
   "outputs": [],
   "source": []
  },
  {
   "cell_type": "code",
   "execution_count": null,
   "id": "d18b67f6",
   "metadata": {},
   "outputs": [],
   "source": []
  },
  {
   "cell_type": "code",
   "execution_count": 14,
   "id": "ac0615f8",
   "metadata": {
    "scrolled": false
   },
   "outputs": [
    {
     "name": "stdout",
     "output_type": "stream",
     "text": [
      "1\n",
      "1\n",
      "finished_acms\n",
      "finished_acms\n",
      "finished_acms\n",
      "finished_acms\n",
      "finished_acms\n",
      "finished_acms\n",
      "2\n",
      "2\n",
      "finished_acms\n",
      "finished_acms\n",
      "finished_acms\n",
      "finished_acms\n",
      "finished_acms\n",
      "finished_acms\n"
     ]
    }
   ],
   "source": [
    "h1_error = []\n",
    "dofs =[]\n",
    "   \n",
    "\n",
    "for order in order_v:\n",
    "    print(order)\n",
    "    V = H1(mesh, order = order, complex = True)\n",
    "    u, v = V.TnT()\n",
    "\n",
    "\n",
    "    a = BilinearForm(V)\n",
    "    a += grad(u) * grad(v) * dx() \n",
    "    a += - kappa**2 * u * v * dx()  \n",
    "    a += -1J * omega * beta * u * v * ds(dom_bnd)\n",
    "    a.Assemble()\n",
    "\n",
    "    l = LinearForm(V)\n",
    "    l += f * v * dx(bonus_intorder=10)\n",
    "    l += g * v * ds(dom_bnd,bonus_intorder=10)\n",
    "    l.Assemble()\n",
    "\n",
    "#     gfu_ex = GridFunction(V)\n",
    "#     ainv = a.mat.Inverse(V.FreeDofs(), inverse = \"sparsecholesky\")\n",
    "#     gfu_ex.vec.data = ainv * l.vec\n",
    "#     print(\"FEM finished\")\n",
    "\n",
    "\n",
    "    gfu = GridFunction(V)\n",
    "    #Computing full basis with max number of modes \n",
    "    acms = ACMS(order = order, mesh = mesh, bm = max_bm, em = max_em)\n",
    "    print(order)\n",
    "\n",
    "    acms.CalcHarmonicExtensions(kappa = kappa)\n",
    "    acms.calc_basis()\n",
    "\n",
    "#     Draw(gfu_ex, mesh, \"u_fem\")\n",
    "\n",
    "\n",
    "    for EM in Edge_modes:\n",
    "            for BM in Bubble_modes:\n",
    "                #Vc = H1(mesh, order = order, complex = True)\n",
    "                gfu = GridFunction(V)\n",
    "                basis = MultiVector(gfu.vec, 0)\n",
    "\n",
    "                for bv in acms.basis_v:\n",
    "                    gfu.vec[:] = 0\n",
    "                    gfu.vec.FV()[:] = bv\n",
    "                    basis.Append(gfu.vec)\n",
    "\n",
    "                for e, label in enumerate(mesh.GetBoundaries()):\n",
    "                    for i in range(EM):\n",
    "                        #gfu.vec[:] = 0\n",
    "                        gfu.vec.FV()[:] = acms.basis_e[e * max_em + i]\n",
    "                        basis.Append(gfu.vec)\n",
    "\n",
    "                for d, dom in enumerate(mesh.GetMaterials()):\n",
    "                    for i in range(BM):\n",
    "                        gfu.vec.FV()[:] = acms.basis_b[d * max_bm + i]\n",
    "                        basis.Append(gfu.vec)\n",
    "\n",
    "\n",
    "                num = len(basis)\n",
    "                dofs.append(num)\n",
    "\n",
    "                asmall = np.zeros((num, num), dtype=np.complex128)\n",
    "                asmall = InnerProduct (basis, a.mat * basis, conjugate = False) #Complex\n",
    "\n",
    "\n",
    "                asmall_np = np.zeros((num, num), dtype=np.complex128)\n",
    "                asmall_np = asmall.NumPy()\n",
    "\n",
    "                ainvs_small_np = np.zeros((num, num), dtype=np.complex128)\n",
    "                ainvs_small_np = np.linalg.inv(asmall_np)\n",
    "\n",
    "                ainvsmall = np.zeros((num, num), dtype=np.complex128)\n",
    "                ainvsmall = Matrix(num,num, complex=True)\n",
    "\n",
    "\n",
    "                for i in range(num):\n",
    "                    for j in range(num):\n",
    "                        ainvsmall[i,j] = ainvs_small_np[i,j]\n",
    "\n",
    "                f_small = []\n",
    "                usmall = []\n",
    "\n",
    "                f_small = InnerProduct(basis, l.vec, conjugate=False)\n",
    "\n",
    "                usmall = ainvsmall * f_small\n",
    "\n",
    "                gfu.vec[:] = 0.0\n",
    "                gfu.vec.data = basis * usmall\n",
    "\n",
    "\n",
    "#                 Draw(gfu-gfu_ex, mesh, \"error\")\n",
    "\n",
    "                print(\"finished_acms\")\n",
    "\n",
    "                #Computing ERROR\n",
    "#                 grad_uex = Du_ex #When there is an exact solution available\n",
    "                grad_uex = Grad(gfu_ex) #When we test against the FEM solution\n",
    "                diff = grad_uex - Grad(gfu)\n",
    "\n",
    "                h1_error_aux = sqrt( Integrate ( InnerProduct(diff,diff), mesh, order = 15))\n",
    "#                 print(h1_error_aux.real)\n",
    "\n",
    "                #Needs to do complex conjugate\n",
    "                #Draw(gfu, mesh, \"u_acms\")\n",
    "                h1_error.append(h1_error_aux.real)\n"
   ]
  },
  {
   "cell_type": "code",
   "execution_count": 24,
   "id": "19a155d0",
   "metadata": {},
   "outputs": [
    {
     "name": "stdout",
     "output_type": "stream",
     "text": [
      "[[[0.1432698  0.1432698 ]\n",
      "  [0.07471112 0.07471112]\n",
      "  [0.05005774 0.05005774]]\n",
      "\n",
      " [[0.13454691 0.13454691]\n",
      "  [0.05800907 0.05800907]\n",
      "  [0.01820784 0.01820784]]]\n"
     ]
    }
   ],
   "source": [
    "h1_error_3d = np.reshape(h1_error, (len(order_v), len(Edge_modes), len(Bubble_modes)))\n",
    "np.save('H1_error', h1_error_3d)\n",
    "H1_error = np.load('H1_error.npy')\n",
    "print(H1_error)"
   ]
  },
  {
   "cell_type": "code",
   "execution_count": null,
   "id": "3c0ca491",
   "metadata": {},
   "outputs": [],
   "source": []
  },
  {
   "cell_type": "code",
   "execution_count": null,
   "id": "b0cadaaa",
   "metadata": {},
   "outputs": [],
   "source": []
  },
  {
   "cell_type": "code",
   "execution_count": 7,
   "id": "a888d3b4",
   "metadata": {},
   "outputs": [],
   "source": [
    "# file = open(\"MyCSVFile.txt\",\"wt\")\n",
    "\n",
    "# writer = csv.writer(file) #\n",
    "# for row in h1_tab: \n",
    "#     writer.writerow(row) #Writes row by row\n",
    "# file.close()   "
   ]
  },
  {
   "cell_type": "code",
   "execution_count": null,
   "id": "1bccd36e",
   "metadata": {},
   "outputs": [],
   "source": []
  },
  {
   "cell_type": "markdown",
   "id": "eed360d6",
   "metadata": {},
   "source": [
    "First test for **classical Helmholtz - Tables 5.2 and 5.4**.\n",
    "\n",
    "Remark. Tables 5.2 and 5.4 can be reproduced if we compare with the explicit solution.\n",
    "\n",
    "\n",
    "Test carried out with:<br>\n",
    "Bubble_modes = [1]   (not needed because there is no source term) <br>\n",
    "Edge_modes = [1,2,4,8,16,32,64]<br>\n",
    "If the results are compared to the paper, Table 5.2 (second half for $H^1$ error),  we get the same convergence behviour and almost the same numbers (with a difference +/-2 in the second significative number). The saturation point is reached earlier but we are using a coarser mesh than the paper table. It seems that with degree 2 of approximation, we reach the accuracy or the method of order 1 for h=3.4e-4. Moreover, the improvement we get for going to degree 3 is not as significant (should test with finer mesh and more modes, also maybe with higher wavenumber).<br>\n",
    "<br>\n",
    "\n",
    "\n",
    "**Table 5.2 - k=1** <br>\n",
    "**9070** vertices  -  maxh=0.02<br>\n",
    "**deg=1:** [[0.13599126 0.05923024 0.01892754 0.01008544 0.00911684 0.00904721] <br>\n",
    "**deg=2:**  [0.13564861 0.05850873 0.0165963  0.00448963 0.00135759 0.0008109]  <br>\n",
    "**deg=3:**  [0.1356477  0.05850646 0.01658802 0.00445871 0.00125187 0.00061983]]<br>\n",
    "\n",
    "**36404** vertices - maxh = 0.01 <br>\n",
    "**deg=1:** [[0.1357756  0.05872428 0.01722265 0.00633276 0.00463325 0.00449471 0.00448552]] <br>\n",
    "**deg=2:** [[0.13569155 0.05854595 0.01661881 0.00446698 0.0011828  0.00039611 0.00028211 0.00027425]]<br>\n",
    "\n",
    "\n",
    "\n",
    "Second test for **classical Helmholtz - Tables 5.3 and 5.5**.\n",
    "\n",
    "Remark. Tables 5.3 and 5.5 can be reproduced if we compare with the reconstructed FEM solution.\n",
    "\n",
    "\n",
    "Test carried out with:<br>\n",
    "Bubble_modes = [1]   (not needed because there is no source term) <br>\n",
    "Edge_modes = [1,2,4,8,16,32]<br>\n",
    "If the results are compared to the paper, Table 5.3 - 5.5 (second half for $H^1$ error),  <br>\n",
    "<br>\n",
    "\n",
    "\n",
    "**Table 5.3 - k=1** <br>\n",
    "**9070** vertices  -  maxh=0.02<br>\n",
    "**deg=1:** [[0.13568968 0.05853565 0.01662826 0.00446872 0.0011707  0.00032533]]<br>\n",
    "**deg=2:**  [0.13564713 0.0585082  0.0165963  0.00449021 0.00135973 0.00081457]]<br>\n",
    "**deg=3:**  [0.13564678 0.05850724 0.01659262 0.00447638 0.0013136  0.00073667]]<br>\n",
    "\n",
    "[[0.13599032 0.05923095 0.01893134 0.01009282 0.00912502 0.00905545\n",
    "  0.1356477  0.05850952 0.01660096 0.00450743 0.00141553 0.00090465]]\n",
    "\n",
    "**36404** vertices<br>\n",
    "<br>"
   ]
  },
  {
   "cell_type": "code",
   "execution_count": null,
   "id": "c5fbdb24",
   "metadata": {},
   "outputs": [],
   "source": []
  },
  {
   "cell_type": "markdown",
   "id": "7c39c6d4",
   "metadata": {},
   "source": [
    "First test for **localised interior source - Table 5.6**.\n",
    "\n",
    "Test carried out with:<br>\n",
    "Bubble_modes = [1,2,4,8,16,32]<br>\n",
    "Edge_modes = [1,2,4,8,16,32]<br>\n",
    "If the results are compared to the paper, Table 5.6 (second half for $H^1$ error), it seems there is a shift of $10^{-2}$ in the results. **WHY?** <br>\n",
    "The behaviour is the same:<br>\n",
    "-when increasing the number of bubbles, there is a decrease by a factor of 10 at first, then by a factor of (1.2-1.4) before being halved;<br>\n",
    "-when increasing the number of bubble modes, and almost no convergence when increasing the number of edge modes. <br>\n",
    "\n",
    "\n",
    "**9070** vertices   -   maxh= 0.02   <br>\n",
    "[[0.00442196 0.00424678 0.00423678 0.0042367  0.00423669]<br>\n",
    " [0.00328148 0.0030442  0.00303053 0.00303041 0.0030304 ]<br>\n",
    " [0.00264233 0.00233963 0.00232186 0.00232171 0.00232171]<br>\n",
    " [0.00196496 0.00153383 0.00150645 0.00150621 0.00150621]<br>\n",
    " [0.00142522 0.00072262 0.0006625  0.00066196 0.00066195]]<br>\n",
    "\n",
    "\n",
    "**deg=1:** \n",
    "\n",
    "[[0.00458159 0.00442203 0.00424685 0.00423685 0.00423677 0.00423676]<br>\n",
    " [0.00458159 0.00442203 0.00424685 0.00423685 0.00423677 0.00423676]<br>\n",
    " [0.00349451 0.00328156 0.00304429 0.00303061 0.0030305  0.00303049]<br>\n",
    " [0.00290336 0.00264243 0.00233973 0.00232197 0.00232181 0.00232181]<br>\n",
    " [0.00230384 0.00196505 0.00153394 0.00150656 0.00150633 0.00150633]<br>\n",
    " [0.00186473 0.00142528 0.00072274 0.00066263 0.00066209 0.00066207]]<br>\n",
    "\n",
    "**deg=2:**\n",
    "\n",
    "[[0.00459806 0.00443906 0.00426451 0.00425455 0.00425447 0.00425447]\n",
    " [0.00459806 0.00443906 0.00426451 0.00425455 0.00425447 0.00425447]\n",
    " [0.00351048 0.00329852 0.00306248 0.00304888 0.00304876 0.00304876]\n",
    " [0.00291797 0.00265841 0.00235764 0.00234002 0.00233986 0.00233986]\n",
    " [0.00231446 0.00197741 0.00154955 0.00152246 0.00152223 0.00152222]\n",
    " [0.00186914 0.00143095 0.00073343 0.00067428 0.00067375 0.00067374]]\n",
    "\n",
    "\n",
    "\n",
    "\n",
    "Test carried out with:<br>\n",
    "Bubble_modes = [2,4,8,16,32,64,128]<br>\n",
    "Edge_modes = [2,4,8,16,32,64]<br>\n",
    "\n",
    "**36404** vertices  -   maxh= 0.01 <br>\n",
    " [[4.43480410e-03 4.26011474e-03 4.25014758e-03 4.25006290e-03  4.25006089e-03 4.25006076e-03]<br>\n",
    " [3.29424319e-03 3.05791780e-03 3.04429565e-03 3.04417748e-03  3.04417466e-03 3.04417447e-03]<br>\n",
    " [2.65429756e-03 2.35307169e-03 2.33540290e-03 2.33524892e-03  2.33524525e-03 2.33524501e-03]<br>\n",
    " [1.97422424e-03 1.54558483e-03 1.51840794e-03 1.51817559e-03  1.51816993e-03 1.51816956e-03]<br>\n",
    " [1.42950812e-03 7.30846476e-04 6.71437969e-04 6.70904173e-04  6.70891381e-04 6.70890539e-04]<br>\n",
    " [1.27328091e-03 3.34645982e-04 1.69477230e-04 1.67358749e-04  1.67307485e-04 1.67304109e-04]<br>\n",
    " [1.26234614e-03 2.90246963e-04 3.12063951e-05 1.61222779e-05  1.55808742e-05 1.55445727e-05]]<br>\n",
    " \n",
    " \n",
    " \n",
    " \n",
    " **deg=1**<br>\n",
    " [[4.59394958e-03 4.43480924e-03 4.26012003e-03 4.25015288e-03 4.25006821e-03 4.25006619e-03 4.25006606e-03]<br>\n",
    " [4.59394958e-03 4.43480923e-03 4.26012003e-03 4.25015288e-03  4.25006821e-03 4.25006619e-03 4.25006606e-03]<br>\n",
    " [3.50646252e-03 3.29424915e-03 3.05792416e-03 3.04430203e-03  3.04418386e-03 3.04418104e-03 3.04418085e-03]<br>\n",
    " [2.91422025e-03 2.65430401e-03 2.35307887e-03 2.33541013e-03  2.33525616e-03 2.33525248e-03 2.33525224e-03]<br>\n",
    " [2.31173348e-03 1.97423047e-03 1.54559266e-03 1.51841590e-03  1.51818355e-03 1.51817790e-03 1.51817753e-03]<br>\n",
    " [1.86803102e-03 1.42951217e-03 7.30854130e-04 6.71446285e-04  6.70912497e-04 6.70899705e-04 6.70898862e-04]<br>\n",
    " [1.75140083e-03 1.27328180e-03 3.34648767e-04 1.69482671e-04  1.67364259e-04 1.67312997e-04 1.67309620e-04]<br>\n",
    " [1.74346498e-03 1.26234632e-03 2.90247069e-04 3.12070683e-05  1.61235771e-05 1.55822185e-05 1.55459201e-05]]<br>\n",
    " \n",
    " \n",
    " **deg=2**<br>\n",
    " [[4.59807863e-03 4.43908036e-03 4.26454921e-03 4.25459291e-03  4.25450837e-03 4.25450634e-03 4.25450620e-03]<br>\n",
    " [4.59807863e-03 4.43908036e-03 4.26454921e-03 4.25459291e-03  4.25450837e-03 4.25450634e-03 4.25450620e-03]<br>\n",
    " [3.51050902e-03 3.29854680e-03 3.06253295e-03 3.04893235e-03  3.04881442e-03 3.04881158e-03 3.04881139e-03]<br>\n",
    " [2.91799572e-03 2.65843594e-03 2.35770958e-03 2.34007714e-03  2.33992355e-03 2.33991985e-03 2.33991961e-03]<br>\n",
    " [2.31447681e-03 1.97742567e-03 1.54962709e-03 1.52252399e-03  1.52229240e-03 1.52228671e-03 1.52228633e-03]<br>\n",
    " [1.86912891e-03 1.43092453e-03 7.33516335e-04 6.74346626e-04  6.73815391e-04 6.73802539e-04 6.73801674e-04]<br>\n",
    " [1.75157534e-03 1.27349675e-03 3.35256719e-04 1.70695051e-04  1.68592971e-04 1.68541623e-04 1.68538166e-04]<br>\n",
    " [1.74352402e-03 1.26240259e-03 2.90249897e-04 3.13147644e-05  1.63422593e-05 1.58034778e-05 1.57665645e-05]]<br>\n",
    " \n",
    " **WHY** there is a slight increase in the error when we refine the mesh and if we increase the polynomial degree?\n",
    " \n",
    " \n",
    " Fixed because we compute on a proper ground truth FEM solution."
   ]
  },
  {
   "cell_type": "code",
   "execution_count": 25,
   "id": "55938a95",
   "metadata": {},
   "outputs": [],
   "source": [
    "plot_error=1"
   ]
  },
  {
   "cell_type": "code",
   "execution_count": 27,
   "id": "7545cf12",
   "metadata": {},
   "outputs": [],
   "source": [
    "if plot_error==1:\n",
    "    h1_error = np.reshape(h1_error, (len(order_v)*len(Edge_modes), len(Bubble_modes)))\n",
    "    dofs = np.reshape(dofs, (len(order_v)*len(Edge_modes), len(Bubble_modes)))"
   ]
  },
  {
   "cell_type": "code",
   "execution_count": 28,
   "id": "a76b56bd",
   "metadata": {
    "scrolled": true
   },
   "outputs": [
    {
     "data": {
      "text/plain": [
       "Text(0.5, 0, 'Edge modes')"
      ]
     },
     "execution_count": 28,
     "metadata": {},
     "output_type": "execute_result"
    },
    {
     "data": {
      "image/png": "[encoded data removed]",
      "text/plain": [
       "<Figure size 640x480 with 1 Axes>"
      ]
     },
     "metadata": {},
     "output_type": "display_data"
    }
   ],
   "source": [
    "## PLOT ERROR with increased EDGE modes for different DEGREES of approximation\n",
    "plt.rcParams.update({'font.size':12})\n",
    "for d in range(len(order_v)):\n",
    "    for i in range(len(Bubble_modes)):\n",
    "        plt.plot(Edge_modes, h1_error[d*len(Edge_modes) : d*len(Edge_modes) + len(Edge_modes),i], label=('$I_b$=%i, p=%i' %(Bubble_modes[i],order_v[d])))\n",
    "plt.title('$H^1$ errors: increased edge modes')\n",
    "plt.legend()\n",
    "plt.xlabel('Edge modes')"
   ]
  },
  {
   "cell_type": "code",
   "execution_count": null,
   "id": "7fc3aefb",
   "metadata": {
    "scrolled": true
   },
   "outputs": [],
   "source": [
    "## PLOT ERROR with increased BUBBLE modes for different DEGREES of approximation\n",
    "plt.rcParams.update({'font.size':15})\n",
    "for d in range(len(order_v)):\n",
    "    for i in range(len(Edge_modes)):\n",
    "        plt.plot(Bubble_modes, h1_error[d*len(Edge_modes) + i,:], label=('$I_e$=%i, p=%i' %(Edge_modes[i],order_v[d])))\n",
    "plt.title('$H^1$ errors: increased bubbles')\n",
    "plt.legend()\n",
    "plt.xlabel('Bubbles')"
   ]
  }
 ],
 "metadata": {
  "kernelspec": {
   "display_name": "Python 3 (ipykernel)",
   "language": "python",
   "name": "python3"
  },
  "language_info": {
   "codemirror_mode": {
    "name": "ipython",
    "version": 3
   },
   "file_extension": ".py",
   "mimetype": "text/x-python",
   "name": "python",
   "nbconvert_exporter": "python",
   "pygments_lexer": "ipython3",
   "version": "3.11.3"
  }
 },
 "nbformat": 4,
 "nbformat_minor": 5
}
