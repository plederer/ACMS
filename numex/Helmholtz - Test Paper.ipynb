{
 "cells": [
  {
   "cell_type": "code",
   "execution_count": 1,
   "id": "e33db3e5",
   "metadata": {},
   "outputs": [],
   "source": [
    "from ngsolve import *\n",
    "from netgen.geom2d import *\n",
    "\n",
    "import numpy \n",
    "import scipy.linalg\n",
    "import scipy.sparse as sp\n",
    "\n",
    "from netgen.occ import *\n",
    "\n",
    "from helping_functions import *\n",
    "\n",
    "from ngsolve.webgui import Draw\n",
    "import matplotlib.pyplot as plt\n"
   ]
  },
  {
   "cell_type": "code",
   "execution_count": 11,
   "id": "d1aeae1d",
   "metadata": {},
   "outputs": [
    {
     "data": {
      "application/vnd.jupyter.widget-view+json": {
       "model_id": "10548d0d27a24be1bc3845f2afd99df3",
       "version_major": 2,
       "version_minor": 0
      },
      "text/plain": [
       "WebGuiWidget(layout=Layout(height='50vh', width='100%'), value={'gui_settings': {}, 'ngsolve_version': '6.2.23…"
      ]
     },
     "metadata": {},
     "output_type": "display_data"
    },
    {
     "name": "stdout",
     "output_type": "stream",
     "text": [
      "389\n",
      "('om0', 'om1', 'om2', 'om3', 'om4', 'om5', 'om6', 'om7')\n",
      "('c0', 'c1', 'c2', 'c3', 'm0', 'm1', 'm2', 'm3', 'm4', 'm5', 'm6', 'm7')\n",
      "('V0', 'V1', 'V2', 'V3', 'V4', 'V5', 'V6', 'V7', 'V8')\n"
     ]
    }
   ],
   "source": [
    "# DOMAIN CONSTRUCTION Omega = B1(0)\n",
    "# Division in 8 subdomains\n",
    "\n",
    "geo = SplineGeometry()\n",
    "Points = [(0,-1), (1,-1), (1,0), \n",
    "          (1,1), (0,1), (-1,1),\n",
    "          (-1,0), (-1,-1), (0,0)]\n",
    "\n",
    "bcs_edge = [\"c0\", \"c1\", \"c2\", \"c3\", \n",
    "            \"m0\", \"m1\", \"m2\", \"m3\",\n",
    "            \"m4\", \"m5\", \"m6\", \"m7\"]\n",
    "\n",
    "for i, pnt in enumerate(Points):\n",
    "    geo.AddPoint(*pnt, name = \"V\" + str(i))\n",
    "\n",
    "geo.Append([\"spline3\", 0, 1, 2], leftdomain=1, rightdomain=0, bc=\"c0\")\n",
    "geo.Append([\"spline3\", 2, 3, 4], leftdomain=2, rightdomain=0, bc=\"c1\")\n",
    "geo.Append([\"spline3\", 4, 5, 6], leftdomain=3, rightdomain=0, bc=\"c2\")\n",
    "geo.Append([\"spline3\", 6, 7, 0], leftdomain=4, rightdomain=0, bc=\"c3\")\n",
    "geo.Append([\"line\", 0, 2], leftdomain=5, rightdomain=1, bc=\"m0\")\n",
    "geo.Append([\"line\", 2, 4], leftdomain=6, rightdomain=2, bc=\"m1\")\n",
    "geo.Append([\"line\", 4, 6], leftdomain=7, rightdomain=3, bc=\"m2\")\n",
    "geo.Append([\"line\", 6, 0], leftdomain=8, rightdomain=4, bc=\"m3\")\n",
    "\n",
    "geo.Append([\"line\", 8, 0], leftdomain=5, rightdomain=8, bc=\"m4\")\n",
    "geo.Append([\"line\", 8, 2], leftdomain=6, rightdomain=5, bc=\"m5\")\n",
    "geo.Append([\"line\", 8, 4], leftdomain=7, rightdomain=6, bc=\"m6\")\n",
    "geo.Append([\"line\", 8, 6], leftdomain=8, rightdomain=7, bc=\"m7\")\n",
    "\n",
    "# geo = SplineGeometry()\n",
    "# geo.AddCircle ( (0, 0), r=1, leftdomain=1, rightdomain=0, )\n",
    "ngmesh = geo.GenerateMesh(maxh= 0.1) #Too much 0.0013\n",
    "\n",
    "\n",
    "\n",
    "\n",
    "mesh = Mesh(ngmesh)\n",
    "for i in range(8):\n",
    "    mesh.ngmesh.SetMaterial(i+1,\"om\" + str(i))\n",
    "\n",
    "Draw(mesh)\n",
    "print(mesh.nv)\n",
    "# quit()\n",
    "print(mesh.GetMaterials())\n",
    "print(mesh.GetBoundaries())\n",
    "print(mesh.GetBBoundaries())\n",
    "# input()\n",
    "\n",
    "dom_bnd = \"c0|c1|c2|c3\"\n",
    "\n"
   ]
  },
  {
   "cell_type": "markdown",
   "id": "7f9ec55a",
   "metadata": {},
   "source": [
    "**Helmholtz problem description**\n",
    "\n",
    "$- div (a \\nabla u) - k^2 u  = f$ in $\\Omega = B_1(0)$,\n",
    "\n",
    "$ a \\partial_n u - i \\omega \\beta u = g $ on $\\partial \\Omega = \\Gamma_R$. \n",
    "\n",
    "\n",
    "In this example we have:\n",
    "\n",
    "$a=1$, \n",
    "\n",
    "$c=1$, \n",
    "\n",
    "$\\beta=1$, \n",
    "\n",
    "$\\omega=2$, \n",
    "\n",
    "$k = \\omega (0.6,0.8)$,\n",
    "\n",
    "$f=0$,\n",
    "\n",
    "$g= -i \\left((0.6 x + 0.8 y) + \\beta \\right) \\exp^{-i (0.6 x + 0.8 y)}$\n",
    "\n",
    "$u_{ex} = \\exp^{-i (0.6 x + 0.8 y)}$."
   ]
  },
  {
   "cell_type": "code",
   "execution_count": null,
   "id": "e038cbbb",
   "metadata": {},
   "outputs": [],
   "source": []
  },
  {
   "cell_type": "code",
   "execution_count": 35,
   "id": "e96fd7d5",
   "metadata": {},
   "outputs": [
    {
     "data": {
      "application/vnd.jupyter.widget-view+json": {
       "model_id": "90779cde22de4bef9bddf6cad84bdf98",
       "version_major": 2,
       "version_minor": 0
      },
      "text/plain": [
       "WebGuiWidget(layout=Layout(height='50vh', width='100%'), value={'gui_settings': {}, 'ngsolve_version': '6.2.23…"
      ]
     },
     "metadata": {},
     "output_type": "display_data"
    },
    {
     "data": {
      "application/vnd.jupyter.widget-view+json": {
       "model_id": "3125e3ca736340029920b5b571d176cf",
       "version_major": 2,
       "version_minor": 0
      },
      "text/plain": [
       "WebGuiWidget(layout=Layout(height='50vh', width='100%'), value={'gui_settings': {}, 'ngsolve_version': '6.2.23…"
      ]
     },
     "metadata": {},
     "output_type": "display_data"
    },
    {
     "data": {
      "text/plain": [
       "BaseWebGuiScene"
      ]
     },
     "execution_count": 35,
     "metadata": {},
     "output_type": "execute_result"
    }
   ],
   "source": [
    "#Problem setting\n",
    "\n",
    "\n",
    "omega = 10\n",
    "#c = 1\n",
    "kappa = omega\n",
    "#CF = CoefficientFunction\n",
    "k = kappa * (0.6,0.8)  # CF((0.6,0.8))\n",
    "beta = 1\n",
    "f = 0\n",
    "u_ex = exp(-1J * (k[0] * x + k[1] * y))\n",
    "g = -1j * kappa * (k[0] * x + k[1] * y) * u_ex - 1j *beta * u_ex\n",
    "\n",
    "\n",
    "#g = exp(-200 * ( (x+1/sqrt(2))**2 + (y-1/sqrt(2))**2))\n",
    "# f = exp(-200 * ( (x)**2 + (y)**2))\n",
    "# u_ex = exp(-1J * (k[0] * x + k[1] * y))\n",
    "\n",
    "Draw(g.real, mesh, \"u_ex\")\n",
    "Draw(g.imag, mesh, \"u_ex\")"
   ]
  },
  {
   "cell_type": "code",
   "execution_count": null,
   "id": "8c744ff7",
   "metadata": {},
   "outputs": [],
   "source": []
  },
  {
   "cell_type": "code",
   "execution_count": null,
   "id": "6ab26cb0",
   "metadata": {},
   "outputs": [],
   "source": []
  },
  {
   "cell_type": "code",
   "execution_count": 36,
   "id": "edf18835",
   "metadata": {},
   "outputs": [],
   "source": [
    "# Coefficient\n",
    "\n",
    "order_v = [2] # ATTENTION: There is an error for order=1\n",
    "             # Cannot use scipy.linalg.eig for sparse A with k >= N - 1.\n",
    "    \n",
    "Bubble_modes = [1,10]\n",
    "Edge_modes = [2,4]#8,16,32,64,128,256] #[24; 28; : : : ; 3072] #We have 12 edges\n",
    "max_bm = Bubble_modes[-1]\n",
    "max_em = Edge_modes[-1]\n"
   ]
  },
  {
   "cell_type": "code",
   "execution_count": 37,
   "id": "ac0615f8",
   "metadata": {},
   "outputs": [
    {
     "name": "stdout",
     "output_type": "stream",
     "text": [
      "2\n",
      "FEM finished\n",
      "finished_acms\n",
      "finished_acms\n",
      "finished_acms\n",
      "finished_acms\n",
      "[[15.19959904 15.19959904]\n",
      " [16.55512874 16.55512874]]\n"
     ]
    }
   ],
   "source": [
    "h1_error = []\n",
    "dofs =[]\n",
    "\n",
    "for order in order_v:\n",
    "    print(order)\n",
    "    V = H1(mesh, order = order, complex = True)\n",
    "    u, v = V.TnT()\n",
    "\n",
    "\n",
    "    a = BilinearForm(V)\n",
    "    a += grad(u) * grad(v) * dx() \n",
    "    a += - kappa**2 * u * v * dx()\n",
    "    a += -1J * omega * beta * u * v * ds(dom_bnd)\n",
    "    a.Assemble()\n",
    "\n",
    "    l = LinearForm(V)\n",
    "    # l += f * v * dx() #Not necessary because f = 0 in this example\n",
    "    l += g * v * ds(dom_bnd)\n",
    "    l.Assemble()\n",
    "\n",
    "    gfu_ex = GridFunction(V)\n",
    "    ainv = a.mat.Inverse(V.FreeDofs(), inverse = \"sparsecholesky\")\n",
    "    gfu_ex.vec.data = ainv * l.vec\n",
    "    print(\"FEM finished\")\n",
    "    \n",
    "\n",
    "    #Draw(gfu_ex, mesh, \"u_fem\")\n",
    "    \n",
    "    gfu = GridFunction(V)\n",
    "    \n",
    "    \n",
    "    #Computing full basis with max number of modes \n",
    "    acms = ACMS(order = order, mesh = mesh, bm = max_bm, em = max_em)\n",
    "    \n",
    "    \n",
    "    acms.CalcHarmonicExtensions(kappa = kappa)\n",
    "    acms.calc_basis()\n",
    "\n",
    "    \n",
    "    \n",
    "    for EM in Edge_modes:\n",
    "            for BM in Bubble_modes:\n",
    "                #Vc = H1(mesh, order = order, complex = True)\n",
    "                gfu = GridFunction(V)\n",
    "                basis = MultiVector(gfu.vec, 0)\n",
    "                \n",
    "                for bv in acms.basis_v:\n",
    "                    gfu.vec.FV()[:] = bv\n",
    "                    basis.Append(gfu.vec)\n",
    "\n",
    "                for e, label in enumerate(mesh.GetBoundaries()):\n",
    "                    for i in range(EM):\n",
    "                        gfu.vec.FV()[:] = acms.basis_e[e * max_em + i]\n",
    "                        basis.Append(gfu.vec)\n",
    "        \n",
    "        \n",
    "                for d, dom in enumerate(mesh.GetMaterials()):\n",
    "                    for i in range(BM):\n",
    "                        gfu.vec.FV()[:] = acms.basis_b[d * max_bm + i]\n",
    "                        basis.Append(gfu.vec)\n",
    "\n",
    "    \n",
    "                num = len(basis)\n",
    "                dofs.append(num)\n",
    "            \n",
    "            \n",
    "                asmall = InnerProduct (basis, a.mat * basis, conjugate = False) #Complex\n",
    "\n",
    "                asmall_np = np.zeros((num, num), dtype=numpy.complex128)\n",
    "                asmall_np = asmall.NumPy()\n",
    "\n",
    "                # SetNumThreads(1)\n",
    "                ainvs_small_np = numpy.linalg.inv(asmall_np)\n",
    "\n",
    "                ainvsmall = Matrix(num,num, complex=True)\n",
    "\n",
    "\n",
    "                for i in range(num):\n",
    "                    for j in range(num):\n",
    "                        ainvsmall[i,j] = ainvs_small_np[i,j]\n",
    "\n",
    "                f_small = InnerProduct(basis, l.vec)\n",
    "\n",
    "                usmall = ainvsmall * f_small\n",
    "                gfu.vec[:] = 0.0\n",
    "\n",
    "                gfu.vec.data = basis * usmall\n",
    "\n",
    "                \n",
    "                #Draw(gfu-gfu_ex, mesh, \"error\")\n",
    "\n",
    "                print(\"finished_acms\")\n",
    "    \n",
    "                #Computing ERROR\n",
    "        \n",
    "                grad_uex = Grad(gfu_ex)\n",
    "                diff = grad_uex - Grad(gfu)\n",
    "                # h1_error_aux = sqrt( Integrate ( InnerProduct(diff,diff), mesh, order = 10))\n",
    "                h1_error_aux = sqrt( Integrate ( InnerProduct(diff,diff), mesh, order = 10))\n",
    "                #Needs to do complex conjugate\n",
    "                #Draw(gfu, mesh, \"u_acms\")\n",
    "                # input()\n",
    "                h1_error.append(h1_error_aux.real)\n",
    "            \n",
    "            \n",
    "h1_error = np.reshape(h1_error, (len(order_v)*len(Edge_modes), len(Bubble_modes)))\n",
    "dofs = np.reshape(dofs, (len(order_v)*len(Edge_modes), len(Bubble_modes)))\n",
    "print(h1_error)\n",
    "\n",
    "\n",
    "\n"
   ]
  },
  {
   "cell_type": "code",
   "execution_count": null,
   "id": "61065769",
   "metadata": {},
   "outputs": [],
   "source": []
  },
  {
   "cell_type": "code",
   "execution_count": null,
   "id": "7fc3aefb",
   "metadata": {},
   "outputs": [],
   "source": []
  },
  {
   "cell_type": "code",
   "execution_count": null,
   "id": "1a408091",
   "metadata": {},
   "outputs": [],
   "source": [
    "#Bubbles\n",
    "plt.rcParams.update({'font.size':10})\n",
    "for d in range(len(order_v)):\n",
    "    for i in range(len(Edge_modes)):\n",
    "        plt.loglog(Bubble_modes, h1_error[d*len(Edge_modes) + i,:], label=('Edge modes=%i' %Edge_modes[i]))\n",
    "plt.title('$H^1$ errors: increased bubbles deg=%i' %order)\n",
    "plt.legend()\n",
    "plt.xlabel('Bubbles')\n",
    "\n"
   ]
  },
  {
   "cell_type": "code",
   "execution_count": 4,
   "id": "eca6b7ff",
   "metadata": {},
   "outputs": [
    {
     "data": {
      "text/plain": [
       "Text(0.5, 0, 'Edge modes / Dofs')"
      ]
     },
     "execution_count": 4,
     "metadata": {},
     "output_type": "execute_result"
    },
    {
     "data": {
      "image/png": "[encoded data removed]",
      "text/plain": [
       "<Figure size 640x480 with 1 Axes>"
      ]
     },
     "metadata": {},
     "output_type": "display_data"
    }
   ],
   "source": [
    "#Edges\n",
    "plt.rcParams.update({'font.size':10})\n",
    "for d in range(len(order_v)):\n",
    "    for i in range(len(Bubble_modes)):\n",
    "        plt.loglog(dofs[d*len(Edge_modes):(d+1)*len(Edge_modes),i], h1_error[d*len(Edge_modes):(d+1)*len(Edge_modes),i], label=('Bubbles=%i' %Bubble_modes[i]))\n",
    "plt.title('$H^1$ errors: increased edge modes deg=%i' %order)\n",
    "plt.legend()\n",
    "plt.xlabel('Edge modes / Dofs')\n",
    "\n",
    "\n",
    "#Order\n",
    "# plt.rcParams.update({'font.size':15})\n",
    "# for d in range(len(order_v)):\n",
    "#     print(len(Edge_modes)-1)\n",
    "#     print(len(Edge_modes))\n",
    "#     print(h1_error[len(Edge_modes)-1:len(Edge_modes):-1,-1])\n",
    "#     plt.plot(order_v, h1_error[(d+1)*len(Edge_modes)-1,-1])#, label=('Bubbles=%i' %Bubble_modes[i]))\n",
    "# plt.title('$H^1$ errors: increased degree of approximation')\n",
    "# plt.legend()\n",
    "# plt.xlabel('Edge modes')"
   ]
  },
  {
   "cell_type": "code",
   "execution_count": null,
   "id": "e3e49cf6",
   "metadata": {},
   "outputs": [],
   "source": []
  },
  {
   "cell_type": "code",
   "execution_count": 3,
   "id": "804ffc44",
   "metadata": {},
   "outputs": [
    {
     "ename": "NgException",
     "evalue": "UmfpackInverse: Numeric factorization failed.",
     "output_type": "error",
     "traceback": [
      "\u001b[0;31m---------------------------------------------------------------------------\u001b[0m",
      "\u001b[0;31mNgException\u001b[0m                               Traceback (most recent call last)",
      "Cell \u001b[0;32mIn[3], line 40\u001b[0m\n\u001b[1;32m     38\u001b[0m f \u001b[38;5;241m+\u001b[39m\u001b[38;5;241m=\u001b[39m \u001b[38;5;241m1\u001b[39m \u001b[38;5;241m*\u001b[39m v \u001b[38;5;241m*\u001b[39m dx()\n\u001b[1;32m     39\u001b[0m f\u001b[38;5;241m.\u001b[39mAssemble()\n\u001b[0;32m---> 40\u001b[0m ainv \u001b[38;5;241m=\u001b[39m \u001b[43ma\u001b[49m\u001b[38;5;241;43m.\u001b[39;49m\u001b[43mmat\u001b[49m\u001b[38;5;241;43m.\u001b[39;49m\u001b[43mInverse\u001b[49m\u001b[43m(\u001b[49m\u001b[43m)\u001b[49m\n\u001b[1;32m     41\u001b[0m gfu_ex \u001b[38;5;241m=\u001b[39m GridFunction(V)\n\u001b[1;32m     42\u001b[0m gfu_ex\u001b[38;5;241m.\u001b[39mvec\u001b[38;5;241m.\u001b[39mdata \u001b[38;5;241m=\u001b[39m ainv \u001b[38;5;241m*\u001b[39m f\u001b[38;5;241m.\u001b[39mvec\n",
      "\u001b[0;31mNgException\u001b[0m: UmfpackInverse: Numeric factorization failed."
     ]
    }
   ],
   "source": [
    "#######################################################################\n",
    "###### BUBBLES AND EDGE MODES CONVERGENCE \n",
    "# DEGREE OF APPROXIMATION CONVERGENCE\n",
    "#######################################################################\n",
    "\n",
    "\n",
    "# SYSTEM ASSEMBLY\n",
    "h1_error = []\n",
    "order_v = [2,3] # ATTENTION: There is an error for order=1\n",
    "             # Cannot use scipy.linalg.eig for sparse A with k >= N - 1.\n",
    "max_bm = 100\n",
    "max_em = 10\n",
    "Bubble_modes = [50]\n",
    "Edge_modes = [1,10] #CAREFUL: we have a limited number of edge modes due to the mesh size\n",
    "# Should redefine max_em\n",
    "\n",
    "with TaskManager():\n",
    "    for order in order_v:\n",
    "    \n",
    "        V =  H1(mesh, order = order, dirichlet = \".*\")\n",
    "        gfu = GridFunction(V)\n",
    "    \n",
    "        acms = ACMS(order = order, mesh = mesh, bm = max_bm, em = 10)\n",
    "        acms.CalcHarmonicExtensions()\n",
    "    \n",
    "        u, v = V.TnT()\n",
    "        dom_bnd = \"bottom0|bottom1|right|top1|top0|left\"\n",
    "\n",
    "        kappa = 0\n",
    "        a = BilinearForm(V)\n",
    "        a += grad(u) * grad(v) * dx\n",
    "        a += - kappa * u * v * dx\n",
    "        a += 10**6 * u * v * ds(dom_bnd)\n",
    "        # a += u * v * dx\n",
    "        a.Assemble()\n",
    "\n",
    "        f = LinearForm(V)\n",
    "        f += 1 * v * dx()\n",
    "        f.Assemble()\n",
    "        ainv = a.mat.Inverse()\n",
    "        gfu_ex = GridFunction(V)\n",
    "        gfu_ex.vec.data = ainv * f.vec\n",
    "    \n",
    "        print(order)\n",
    "        \n",
    "        \n",
    "        basis_v = MultiVector(gfu.vec, 0)\n",
    "        basis_e = MultiVector(gfu.vec, 0)\n",
    "        basis_b = MultiVector(gfu.vec, 0)\n",
    "\n",
    "        acms.calc_vertex_basis(basis_v)\n",
    "        acms.calc_edge_basis(basis_e)\n",
    "        acms.calc_bubble_basis(basis_b)\n",
    "    \n",
    "        for EM in Edge_modes:\n",
    "            for BM in Bubble_modes:\n",
    "                basis = MultiVector(gfu.vec, 0)\n",
    "                for bv in basis_v:\n",
    "                    basis.Append(bv)\n",
    "\n",
    "                for e, label in enumerate(mesh.GetBoundaries()):\n",
    "                    for i in range(EM):\n",
    "                        basis.Append(basis_e[e * max_em + i])\n",
    "        \n",
    "        \n",
    "                for d, dom in enumerate(mesh.GetMaterials()):\n",
    "                    for i in range(BM):\n",
    "                        basis.Append(basis_b[d * max_bm + i])\n",
    "\n",
    "\n",
    "                num = len(basis)\n",
    "\n",
    "                asmall = InnerProduct (basis, a.mat * basis)\n",
    "                ainvsmall = Matrix(num,num)\n",
    "\n",
    "                f_small = InnerProduct(basis, f.vec)\n",
    "\n",
    "                asmall.Inverse(ainvsmall)\n",
    "                usmall = ainvsmall * f_small\n",
    "\n",
    "                gfu.vec[:] = 0.0\n",
    "\n",
    "                gfu.vec.data = basis * usmall\n",
    "\n",
    "\n",
    "                ### big solution\n",
    "\n",
    "                grad_uex = Grad(gfu_ex)\n",
    "                diff = grad_uex - Grad(gfu)\n",
    "\n",
    "                h1_error_aux = sqrt( Integrate ( InnerProduct(diff,diff), mesh, order = 10))\n",
    "\n",
    "                h1_error.append(h1_error_aux)\n",
    "            \n",
    "            \n",
    "h1_error = np.reshape(h1_error, (len(order_v)*len(Edge_modes), len(Bubble_modes)))\n",
    "print(h1_error)\n"
   ]
  },
  {
   "cell_type": "code",
   "execution_count": 4,
   "id": "694b6e48",
   "metadata": {},
   "outputs": [
    {
     "ename": "TypeError",
     "evalue": "list indices must be integers or slices, not tuple",
     "output_type": "error",
     "traceback": [
      "\u001b[0;31m---------------------------------------------------------------------------\u001b[0m",
      "\u001b[0;31mTypeError\u001b[0m                                 Traceback (most recent call last)",
      "Cell \u001b[0;32mIn[4], line 5\u001b[0m\n\u001b[1;32m      3\u001b[0m \u001b[38;5;28;01mfor\u001b[39;00m d \u001b[38;5;129;01min\u001b[39;00m \u001b[38;5;28mrange\u001b[39m(\u001b[38;5;28mlen\u001b[39m(order_v)):\n\u001b[1;32m      4\u001b[0m     \u001b[38;5;28;01mfor\u001b[39;00m i \u001b[38;5;129;01min\u001b[39;00m \u001b[38;5;28mrange\u001b[39m(\u001b[38;5;28mlen\u001b[39m(Edge_modes)):\n\u001b[0;32m----> 5\u001b[0m         plt\u001b[38;5;241m.\u001b[39mplot(Bubble_modes, \u001b[43mh1_error\u001b[49m\u001b[43m[\u001b[49m\u001b[43md\u001b[49m\u001b[38;5;241;43m*\u001b[39;49m\u001b[38;5;28;43mlen\u001b[39;49m\u001b[43m(\u001b[49m\u001b[43mEdge_modes\u001b[49m\u001b[43m)\u001b[49m\u001b[43m \u001b[49m\u001b[38;5;241;43m+\u001b[39;49m\u001b[43m \u001b[49m\u001b[43mi\u001b[49m\u001b[43m,\u001b[49m\u001b[43m:\u001b[49m\u001b[43m]\u001b[49m, label\u001b[38;5;241m=\u001b[39m(\u001b[38;5;124m'\u001b[39m\u001b[38;5;124m$I_e$=\u001b[39m\u001b[38;5;132;01m%i\u001b[39;00m\u001b[38;5;124m, p=\u001b[39m\u001b[38;5;132;01m%i\u001b[39;00m\u001b[38;5;124m'\u001b[39m \u001b[38;5;241m%\u001b[39m(Edge_modes[i],order_v[d])))\n\u001b[1;32m      6\u001b[0m plt\u001b[38;5;241m.\u001b[39mtitle(\u001b[38;5;124m'\u001b[39m\u001b[38;5;124m$H^1$ errors: increased bubbles\u001b[39m\u001b[38;5;124m'\u001b[39m)\n\u001b[1;32m      7\u001b[0m plt\u001b[38;5;241m.\u001b[39mlegend()\n",
      "\u001b[0;31mTypeError\u001b[0m: list indices must be integers or slices, not tuple"
     ]
    }
   ],
   "source": [
    "## PLOT ERROR with increased BUBBLE modes for different DEGREES of approximation\n",
    "plt.rcParams.update({'font.size':15})\n",
    "for d in range(len(order_v)):\n",
    "    for i in range(len(Edge_modes)):\n",
    "        plt.plot(Bubble_modes, h1_error[d*len(Edge_modes) + i,:], label=('$I_e$=%i, p=%i' %(Edge_modes[i],order_v[d])))\n",
    "plt.title('$H^1$ errors: increased bubbles')\n",
    "plt.legend()\n",
    "plt.xlabel('Bubbles')"
   ]
  },
  {
   "cell_type": "code",
   "execution_count": 5,
   "id": "d12ad0d1",
   "metadata": {},
   "outputs": [
    {
     "ename": "TypeError",
     "evalue": "list indices must be integers or slices, not tuple",
     "output_type": "error",
     "traceback": [
      "\u001b[0;31m---------------------------------------------------------------------------\u001b[0m",
      "\u001b[0;31mTypeError\u001b[0m                                 Traceback (most recent call last)",
      "Cell \u001b[0;32mIn[5], line 5\u001b[0m\n\u001b[1;32m      3\u001b[0m \u001b[38;5;28;01mfor\u001b[39;00m d \u001b[38;5;129;01min\u001b[39;00m \u001b[38;5;28mrange\u001b[39m(\u001b[38;5;28mlen\u001b[39m(order_v)):\n\u001b[1;32m      4\u001b[0m     \u001b[38;5;28;01mfor\u001b[39;00m i \u001b[38;5;129;01min\u001b[39;00m \u001b[38;5;28mrange\u001b[39m(\u001b[38;5;28mlen\u001b[39m(Bubble_modes)):\n\u001b[0;32m----> 5\u001b[0m         plt\u001b[38;5;241m.\u001b[39mplot(Edge_modes, \u001b[43mh1_error\u001b[49m\u001b[43m[\u001b[49m\u001b[43md\u001b[49m\u001b[38;5;241;43m*\u001b[39;49m\u001b[38;5;28;43mlen\u001b[39;49m\u001b[43m(\u001b[49m\u001b[43mEdge_modes\u001b[49m\u001b[43m)\u001b[49m\u001b[43m \u001b[49m\u001b[43m:\u001b[49m\u001b[43m \u001b[49m\u001b[43md\u001b[49m\u001b[38;5;241;43m*\u001b[39;49m\u001b[38;5;28;43mlen\u001b[39;49m\u001b[43m(\u001b[49m\u001b[43mEdge_modes\u001b[49m\u001b[43m)\u001b[49m\u001b[43m \u001b[49m\u001b[38;5;241;43m+\u001b[39;49m\u001b[43m \u001b[49m\u001b[38;5;28;43mlen\u001b[39;49m\u001b[43m(\u001b[49m\u001b[43mEdge_modes\u001b[49m\u001b[43m)\u001b[49m\u001b[43m,\u001b[49m\u001b[43mi\u001b[49m\u001b[43m]\u001b[49m, label\u001b[38;5;241m=\u001b[39m(\u001b[38;5;124m'\u001b[39m\u001b[38;5;124m$I_b$=\u001b[39m\u001b[38;5;132;01m%i\u001b[39;00m\u001b[38;5;124m, p=\u001b[39m\u001b[38;5;132;01m%i\u001b[39;00m\u001b[38;5;124m'\u001b[39m \u001b[38;5;241m%\u001b[39m(Bubble_modes[i],order_v[d])))\n\u001b[1;32m      6\u001b[0m plt\u001b[38;5;241m.\u001b[39mtitle(\u001b[38;5;124m'\u001b[39m\u001b[38;5;124m$H^1$ errors: increased edge modes\u001b[39m\u001b[38;5;124m'\u001b[39m)\n\u001b[1;32m      7\u001b[0m plt\u001b[38;5;241m.\u001b[39mlegend()\n",
      "\u001b[0;31mTypeError\u001b[0m: list indices must be integers or slices, not tuple"
     ]
    }
   ],
   "source": [
    "## PLOT ERROR with increased EDGE modes for different DEGREES of approximation\n",
    "plt.rcParams.update({'font.size':15})\n",
    "for d in range(len(order_v)):\n",
    "    for i in range(len(Bubble_modes)):\n",
    "        plt.plot(Edge_modes, h1_error[d*len(Edge_modes) : d*len(Edge_modes) + len(Edge_modes),i], label=('$I_b$=%i, p=%i' %(Bubble_modes[i],order_v[d])))\n",
    "plt.title('$H^1$ errors: increased edge modes')\n",
    "plt.legend()\n",
    "plt.xlabel('Edge modes')"
   ]
  },
  {
   "cell_type": "code",
   "execution_count": null,
   "id": "0972aab3",
   "metadata": {},
   "outputs": [],
   "source": []
  },
  {
   "cell_type": "code",
   "execution_count": null,
   "id": "cd1f9108",
   "metadata": {},
   "outputs": [],
   "source": []
  }
 ],
 "metadata": {
  "kernelspec": {
   "display_name": "Python 3 (ipykernel)",
   "language": "python",
   "name": "python3"
  },
  "language_info": {
   "codemirror_mode": {
    "name": "ipython",
    "version": 3
   },
   "file_extension": ".py",
   "mimetype": "text/x-python",
   "name": "python",
   "nbconvert_exporter": "python",
   "pygments_lexer": "ipython3",
   "version": "3.11.3"
  }
 },
 "nbformat": 4,
 "nbformat_minor": 5
}
