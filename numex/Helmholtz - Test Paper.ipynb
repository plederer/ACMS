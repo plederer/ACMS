{
 "cells": [
  {
   "cell_type": "code",
   "execution_count": 1,
   "id": "e33db3e5",
   "metadata": {
    "scrolled": true
   },
   "outputs": [],
   "source": [
    "from ngsolve import *\n",
    "from netgen.geom2d import *\n",
    "\n",
    "import numpy as np\n",
    "import scipy.linalg\n",
    "import scipy.sparse as sp\n",
    "\n",
    "from netgen.occ import *\n",
    "\n",
    "from helping_functions import *\n",
    "\n",
    "from ngsolve.webgui import Draw\n",
    "import matplotlib.pyplot as plt\n"
   ]
  },
  {
   "cell_type": "code",
   "execution_count": 2,
   "id": "d1aeae1d",
   "metadata": {
    "scrolled": true
   },
   "outputs": [
    {
     "name": "stdout",
     "output_type": "stream",
     "text": [
      "9070\n",
      "('om0', 'om1', 'om2', 'om3', 'om4', 'om5', 'om6', 'om7')\n",
      "('c0', 'c1', 'c2', 'c3', 'm0', 'm1', 'm2', 'm3', 'm4', 'm5', 'm6', 'm7')\n",
      "('V0', 'V1', 'V2', 'V3', 'V4', 'V5', 'V6', 'V7', 'V8')\n"
     ]
    }
   ],
   "source": [
    "# DOMAIN CONSTRUCTION Omega = B1(0)\n",
    "# Division in 8 subdomains\n",
    "\n",
    "geo = SplineGeometry()\n",
    "Points = [(0,-1), (1,-1), (1,0), \n",
    "          (1,1), (0,1), (-1,1),\n",
    "          (-1,0), (-1,-1), (0,0)]\n",
    "\n",
    "bcs_edge = [\"c0\", \"c1\", \"c2\", \"c3\", \n",
    "            \"m0\", \"m1\", \"m2\", \"m3\",\n",
    "            \"m4\", \"m5\", \"m6\", \"m7\"]\n",
    "\n",
    "for i, pnt in enumerate(Points):\n",
    "    geo.AddPoint(*pnt, name = \"V\" + str(i))\n",
    "\n",
    "geo.Append([\"spline3\", 0, 1, 2], leftdomain=1, rightdomain=0, bc=\"c0\")\n",
    "geo.Append([\"spline3\", 2, 3, 4], leftdomain=2, rightdomain=0, bc=\"c1\")\n",
    "geo.Append([\"spline3\", 4, 5, 6], leftdomain=3, rightdomain=0, bc=\"c2\")\n",
    "geo.Append([\"spline3\", 6, 7, 0], leftdomain=4, rightdomain=0, bc=\"c3\")\n",
    "geo.Append([\"line\", 0, 2], leftdomain=5, rightdomain=1, bc=\"m0\")\n",
    "geo.Append([\"line\", 2, 4], leftdomain=6, rightdomain=2, bc=\"m1\")\n",
    "geo.Append([\"line\", 4, 6], leftdomain=7, rightdomain=3, bc=\"m2\")\n",
    "geo.Append([\"line\", 6, 0], leftdomain=8, rightdomain=4, bc=\"m3\")\n",
    "\n",
    "geo.Append([\"line\", 8, 0], leftdomain=5, rightdomain=8, bc=\"m4\")\n",
    "geo.Append([\"line\", 8, 2], leftdomain=6, rightdomain=5, bc=\"m5\")\n",
    "geo.Append([\"line\", 8, 4], leftdomain=7, rightdomain=6, bc=\"m6\")\n",
    "geo.Append([\"line\", 8, 6], leftdomain=8, rightdomain=7, bc=\"m7\")\n",
    "\n",
    "# geo = SplineGeometry()\n",
    "# geo.AddCircle ( (0, 0), r=1, leftdomain=1, rightdomain=0, )\n",
    "ngmesh = geo.GenerateMesh(maxh= 0.02) #Too much 0.0013\n",
    "\n",
    "\n",
    "\n",
    "\n",
    "mesh = Mesh(ngmesh)\n",
    "for i in range(8):\n",
    "    mesh.ngmesh.SetMaterial(i+1,\"om\" + str(i))\n",
    "\n",
    "#Draw(mesh)\n",
    "print(mesh.nv)\n",
    "# quit()\n",
    "print(mesh.GetMaterials())\n",
    "print(mesh.GetBoundaries())\n",
    "print(mesh.GetBBoundaries())\n",
    "# input()\n",
    "\n",
    "dom_bnd = \"c0|c1|c2|c3\"\n",
    "\n"
   ]
  },
  {
   "cell_type": "code",
   "execution_count": 3,
   "id": "600a0182",
   "metadata": {},
   "outputs": [],
   "source": [
    "#Draw(mesh)"
   ]
  },
  {
   "cell_type": "markdown",
   "id": "52e67f27",
   "metadata": {},
   "source": [
    "**Helmholtz problem description - Plane wave**\n",
    "\n",
    "$- div (a \\nabla u) - k^2 u  = f$ in $\\Omega = B_1(0)$,\n",
    "\n",
    "$ a \\partial_n u - i \\omega \\beta u = g $ on $\\partial \\Omega = \\Gamma_R$. \n",
    "\n",
    "\n",
    "In this example we have:\n",
    "\n",
    "$a=1$, \n",
    "\n",
    "$c=1$, \n",
    "\n",
    "$\\beta=1$, \n",
    "\n",
    "$\\omega=2$, \n",
    "\n",
    "$k = \\omega (0.6,0.8)$,\n",
    "\n",
    "$f=0$,\n",
    "\n",
    "$g= -i \\left((0.6 x + 0.8 y) + \\beta \\right) \\exp^{-i (0.6 x + 0.8 y)}$\n",
    "\n",
    "$u_{ex} = \\exp^{-i (0.6 x + 0.8 y)}$."
   ]
  },
  {
   "cell_type": "code",
   "execution_count": 4,
   "id": "e96fd7d5",
   "metadata": {
    "scrolled": true
   },
   "outputs": [],
   "source": [
    "#Problem setting - PLANE WAVE\n",
    "\n",
    "omega = 1\n",
    "#CF = CoefficientFunction\n",
    "kappa = omega\n",
    "k = kappa * CF((0.6,0.8))\n",
    "beta = 1\n",
    "f = 0\n",
    "u_ex = exp(-1J * (k[0] * x + k[1] * y))\n",
    "g = -1j * kappa * (k[0] * x + k[1] * y) * u_ex - 1j *beta * u_ex\n",
    "\n",
    "#Draw(g.real, mesh, \"u_ex\")\n",
    "#Draw(g.imag, mesh, \"u_ex\")\n"
   ]
  },
  {
   "cell_type": "markdown",
   "id": "8bb1ad88",
   "metadata": {},
   "source": [
    "**Helmholtz problem description - Interior source**\n",
    "\n",
    "$- div (a \\nabla u) - k^2 u  = f$ in $\\Omega = B_1(0)$,\n",
    "\n",
    "$ a \\partial_n u - i \\omega \\beta u = g $ on $\\partial \\Omega = \\Gamma_R$. \n",
    "\n",
    "\n",
    "In this example we have:\n",
    "\n",
    "$a=1$, \n",
    "\n",
    "$c=1$, \n",
    "\n",
    "$\\beta=1$, \n",
    "\n",
    "$\\omega=1$, \n",
    "\n",
    "$k = \\omega$,\n",
    "\n",
    "$f=\\exp^{(-200 |x-x_c|^2)}$, with $x_c = (1/3,1/3)$,\n",
    "\n",
    "$g= 0$."
   ]
  },
  {
   "cell_type": "code",
   "execution_count": null,
   "id": "d6a09368",
   "metadata": {
    "scrolled": true
   },
   "outputs": [],
   "source": [
    "class Point:\n",
    "    \"\"\" Point class for representing and manipulating x,y coordinates. \"\"\"\n",
    "\n",
    "    def __init__(self):\n",
    "        \"\"\" Create a new point at the origin \"\"\"\n",
    "        self.x = 0\n",
    "        self.y = 0"
   ]
  },
  {
   "cell_type": "code",
   "execution_count": null,
   "id": "88e3de0c",
   "metadata": {
    "scrolled": true
   },
   "outputs": [],
   "source": [
    "#Problem setting - INTERIOR SOURCE\n",
    "\n",
    "omega = 1\n",
    "kappa = omega\n",
    "beta = 1\n",
    "p = (1/3, 1/3)\n",
    "P = Point()\n",
    "P.x = 1/3\n",
    "P.y = 1/3\n",
    "\n",
    "f = exp(-200 * ((x-P.x)**2 + (y-P.y)**2)) \n",
    "g = 0\n"
   ]
  },
  {
   "cell_type": "code",
   "execution_count": null,
   "id": "b2a3bc90",
   "metadata": {
    "scrolled": true
   },
   "outputs": [],
   "source": []
  },
  {
   "cell_type": "code",
   "execution_count": null,
   "id": "6928ea5c",
   "metadata": {
    "scrolled": true
   },
   "outputs": [],
   "source": []
  },
  {
   "cell_type": "code",
   "execution_count": 5,
   "id": "626fd8d5",
   "metadata": {
    "scrolled": true
   },
   "outputs": [],
   "source": [
    "# Coefficients\n",
    "\n",
    "order_v = [1] # The following error is due to low resolution -> refine mesh\n",
    "             # Cannot use scipy.linalg.eig for sparse A with k >= N - 1.\n",
    "    \n",
    "Bubble_modes = [1]\n",
    "Edge_modes = [1,2,4,8]#,32,64,128,256] #[24; 28; : : : ; 3072] #We have 12 edges\n",
    "max_bm = Bubble_modes[-1]\n",
    "max_em = Edge_modes[-1]\n"
   ]
  },
  {
   "cell_type": "code",
   "execution_count": null,
   "id": "1cc822a0",
   "metadata": {
    "scrolled": true
   },
   "outputs": [],
   "source": []
  },
  {
   "cell_type": "code",
   "execution_count": 6,
   "id": "ac0615f8",
   "metadata": {
    "scrolled": false
   },
   "outputs": [
    {
     "name": "stdout",
     "output_type": "stream",
     "text": [
      "1\n",
      "FEM finished\n",
      "1\n",
      "finished_acms\n",
      "finished_acms\n",
      "finished_acms\n",
      "finished_acms\n"
     ]
    }
   ],
   "source": [
    "h1_error = []\n",
    "dofs =[]\n",
    "\n",
    "\n",
    "for order in order_v:\n",
    "    print(order)\n",
    "    V = H1(mesh, order = order, complex = True)\n",
    "    u, v = V.TnT()\n",
    "\n",
    "\n",
    "    a = BilinearForm(V)\n",
    "    a += grad(u) * grad(v) * dx() \n",
    "    a += - kappa**2 * u * v * dx()  \n",
    "    a += -1J * omega * beta * u * v * ds(dom_bnd)\n",
    "    a.Assemble()\n",
    "\n",
    "    l = LinearForm(V)\n",
    "    l += f * v * dx(bonus_intorder=10)\n",
    "    l += g * v * ds(dom_bnd,bonus_intorder=10)\n",
    "    l.Assemble()\n",
    "\n",
    "    gfu_ex = GridFunction(V)\n",
    "    ainv = a.mat.Inverse(V.FreeDofs(), inverse = \"sparsecholesky\")\n",
    "    gfu_ex.vec.data = ainv * l.vec\n",
    "    print(\"FEM finished\")\n",
    "    \n",
    "    \n",
    "    gfu = GridFunction(V)\n",
    "    #Computing full basis with max number of modes \n",
    "    acms = ACMS(order = order, mesh = mesh, bm = max_bm, em = max_em)\n",
    "    print(order)\n",
    "    \n",
    "    acms.CalcHarmonicExtensions(kappa = kappa)\n",
    "    acms.calc_basis()\n",
    "\n",
    "#     Draw(gfu_ex, mesh, \"u_fem\")\n",
    "    \n",
    "\n",
    "    for EM in Edge_modes:\n",
    "            for BM in Bubble_modes:\n",
    "                #Vc = H1(mesh, order = order, complex = True)\n",
    "                gfu = GridFunction(V)\n",
    "                basis = MultiVector(gfu.vec, 0)\n",
    "                \n",
    "                for bv in acms.basis_v:\n",
    "                    gfu.vec[:] = 0\n",
    "                    gfu.vec.FV()[:] = bv\n",
    "                    basis.Append(gfu.vec)\n",
    "                \n",
    "                for e, label in enumerate(mesh.GetBoundaries()):\n",
    "                    for i in range(EM):\n",
    "                        #gfu.vec[:] = 0\n",
    "                        gfu.vec.FV()[:] = acms.basis_e[e * max_em + i]\n",
    "                        basis.Append(gfu.vec)\n",
    "        \n",
    "                for d, dom in enumerate(mesh.GetMaterials()):\n",
    "                    for i in range(BM):\n",
    "                        gfu.vec.FV()[:] = acms.basis_b[d * max_bm + i]\n",
    "                        basis.Append(gfu.vec)\n",
    "\n",
    "    \n",
    "                num = len(basis)\n",
    "                dofs.append(num)\n",
    "            \n",
    "                asmall = np.zeros((num, num), dtype=np.complex128)\n",
    "                asmall = InnerProduct (basis, a.mat * basis, conjugate = False) #Complex\n",
    "                \n",
    "                      \n",
    "                asmall_np = np.zeros((num, num), dtype=np.complex128)\n",
    "                asmall_np = asmall.NumPy()\n",
    "    \n",
    "                ainvs_small_np = np.zeros((num, num), dtype=np.complex128)\n",
    "                ainvs_small_np = np.linalg.inv(asmall_np)\n",
    "\n",
    "                ainvsmall = np.zeros((num, num), dtype=np.complex128)\n",
    "                ainvsmall = Matrix(num,num, complex=True)\n",
    "\n",
    "\n",
    "                for i in range(num):\n",
    "                    for j in range(num):\n",
    "                        ainvsmall[i,j] = ainvs_small_np[i,j]\n",
    "                 \n",
    "                f_small = []\n",
    "                usmall = []\n",
    "                \n",
    "                f_small = InnerProduct(basis, l.vec, conjugate=False)\n",
    "                \n",
    "                usmall = ainvsmall * f_small\n",
    "                \n",
    "                gfu.vec[:] = 0.0\n",
    "                gfu.vec.data = basis * usmall\n",
    "\n",
    "                \n",
    "#                 Draw(gfu-gfu_ex, mesh, \"error\")\n",
    "\n",
    "                print(\"finished_acms\")\n",
    "    \n",
    "                #Computing ERROR\n",
    "        \n",
    "                grad_uex = Grad(gfu_ex)\n",
    "                diff = grad_uex - Grad(gfu)\n",
    "                \n",
    "                h1_error_aux = sqrt( Integrate ( InnerProduct(diff,diff), mesh, order = 15))\n",
    "                #print(h1_error_aux)\n",
    "                \n",
    "                #Needs to do complex conjugate\n",
    "                #Draw(gfu, mesh, \"u_acms\")\n",
    "                h1_error.append(h1_error_aux.real)\n",
    "            \n",
    "            \n",
    "\n",
    "h1_error = np.reshape(h1_error, (len(order_v)*len(Edge_modes), len(Bubble_modes)))\n",
    "dofs = np.reshape(dofs, (len(order_v)*len(Edge_modes), len(Bubble_modes)))\n",
    "# print(h1_error)\n",
    "\n"
   ]
  },
  {
   "cell_type": "code",
   "execution_count": 7,
   "id": "c16f0023",
   "metadata": {
    "scrolled": true
   },
   "outputs": [
    {
     "name": "stdout",
     "output_type": "stream",
     "text": [
      "[[0.13568968 0.05853565 0.01662826 0.00446872]]\n"
     ]
    }
   ],
   "source": [
    "h1_tab = h1_error.T\n",
    "print(h1_tab)"
   ]
  },
  {
   "cell_type": "code",
   "execution_count": null,
   "id": "0aaa9f07",
   "metadata": {},
   "outputs": [],
   "source": []
  },
  {
   "cell_type": "code",
   "execution_count": null,
   "id": "97211765",
   "metadata": {},
   "outputs": [],
   "source": []
  },
  {
   "cell_type": "code",
   "execution_count": null,
   "id": "8b2282ca",
   "metadata": {},
   "outputs": [],
   "source": []
  },
  {
   "cell_type": "markdown",
   "id": "ad2b0ebf",
   "metadata": {},
   "source": [
    "First test for **classical Helmholtz - Tables 5.3 and 5.5**.\n",
    "\n",
    "Remark. Tables 5.2 and 5.4 can only be reproduced if we compare with the explicit solution and not the reconstructed FEM.\n",
    "\n",
    "\n",
    "Test carried out with:<br>\n",
    "Bubble_modes = [2]   (not needed because there is no source term) <br>\n",
    "Edge_modes = [2,4,8,16,32]<br>\n",
    "If the results are compared to the paper, Table 5.2 - 5.5 (second half for $H^1$ error),  <br>\n",
    "<br>\n",
    "\n",
    "\n",
    "Something is wrong - There is no convergence!!!<br>\n",
    "**Table 5.3 - k=1** <br>\n",
    "**9070** vertices  -  maxh=0.02<br>\n",
    "[[0.19638151 0.21907383 0.23493477 0.2408995  0.24121711]]<br>\n",
    "\n",
    "\n",
    "36404 vertices<br>\n",
    "<br>"
   ]
  },
  {
   "cell_type": "code",
   "execution_count": null,
   "id": "fa11fdfb",
   "metadata": {},
   "outputs": [],
   "source": []
  },
  {
   "cell_type": "markdown",
   "id": "00f5e7bf",
   "metadata": {},
   "source": [
    "First test for **localised interior source - Table 5.6**.\n",
    "\n",
    "Test carried out with:<br>\n",
    "Bubble_modes = [2,4,8,16,32]<br>\n",
    "Edge_modes = [2,4,8,16,32]<br>\n",
    "If the results are compared to the paper, Table 5.6 (second half for $H^1$ error), it seems there is a shift of $10^{-2}$ in the results. **WHY?** <br>\n",
    "The behaviour is the same:<br>\n",
    "-when increasing the number of bubbles, there is a decrease by a factor of 10 at first, then by a factor of (1.2-1.4) before being halved;<br>\n",
    "-when increasing the number of bubble modes, and almost no convergence when increasing the number of edge modes. <br>\n",
    "\n",
    "\n",
    "**9070** vertices   -   maxh= 0.02   <br>\n",
    "[[0.00442196 0.00424678 0.00423678 0.0042367  0.00423669]<br>\n",
    " [0.00328148 0.0030442  0.00303053 0.00303041 0.0030304 ]<br>\n",
    " [0.00264233 0.00233963 0.00232186 0.00232171 0.00232171]<br>\n",
    " [0.00196496 0.00153383 0.00150645 0.00150621 0.00150621]<br>\n",
    " [0.00142522 0.00072262 0.0006625  0.00066196 0.00066195]]<br>\n",
    "\n",
    "\n",
    "Test carried out with:<br>\n",
    "Bubble_modes = [2,4,8,16,32,64,128]<br>\n",
    "Edge_modes = [2,4,8,16,32,64]<br>\n",
    "\n",
    "**36404** vertices  -   maxh= 0.01 <br>\n",
    " [[4.43480410e-03 4.26011474e-03 4.25014758e-03 4.25006290e-03  4.25006089e-03 4.25006076e-03]<br>\n",
    " [3.29424319e-03 3.05791780e-03 3.04429565e-03 3.04417748e-03  3.04417466e-03 3.04417447e-03]<br>\n",
    " [2.65429756e-03 2.35307169e-03 2.33540290e-03 2.33524892e-03  2.33524525e-03 2.33524501e-03]<br>\n",
    " [1.97422424e-03 1.54558483e-03 1.51840794e-03 1.51817559e-03  1.51816993e-03 1.51816956e-03]<br>\n",
    " [1.42950812e-03 7.30846476e-04 6.71437969e-04 6.70904173e-04  6.70891381e-04 6.70890539e-04]<br>\n",
    " [1.27328091e-03 3.34645982e-04 1.69477230e-04 1.67358749e-04  1.67307485e-04 1.67304109e-04]<br>\n",
    " [1.26234614e-03 2.90246963e-04 3.12063951e-05 1.61222779e-05  1.55808742e-05 1.55445727e-05]]<br>\n",
    " \n",
    " \n",
    " **WHY** there is a slight increase in the error when we refine the mesh? "
   ]
  },
  {
   "cell_type": "code",
   "execution_count": null,
   "id": "bd62d408",
   "metadata": {},
   "outputs": [],
   "source": []
  },
  {
   "cell_type": "code",
   "execution_count": null,
   "id": "88d4f5a0",
   "metadata": {},
   "outputs": [],
   "source": []
  },
  {
   "cell_type": "code",
   "execution_count": null,
   "id": "a76b56bd",
   "metadata": {
    "scrolled": true
   },
   "outputs": [],
   "source": [
    "## PLOT ERROR with increased EDGE modes for different DEGREES of approximation\n",
    "plt.rcParams.update({'font.size':15})\n",
    "for d in range(len(order_v)):\n",
    "    for i in range(len(Bubble_modes)):\n",
    "        plt.plot(Edge_modes, h1_error[d*len(Edge_modes) : d*len(Edge_modes) + len(Edge_modes),i], label=('$I_b$=%i, p=%i' %(Bubble_modes[i],order_v[d])))\n",
    "plt.title('$H^1$ errors: increased edge modes')\n",
    "plt.legend()\n",
    "plt.xlabel('Edge modes')"
   ]
  },
  {
   "cell_type": "code",
   "execution_count": null,
   "id": "7fc3aefb",
   "metadata": {
    "scrolled": true
   },
   "outputs": [],
   "source": [
    "## PLOT ERROR with increased BUBBLE modes for different DEGREES of approximation\n",
    "plt.rcParams.update({'font.size':15})\n",
    "for d in range(len(order_v)):\n",
    "    for i in range(len(Edge_modes)):\n",
    "        plt.plot(Bubble_modes, h1_error[d*len(Edge_modes) + i,:], label=('$I_e$=%i, p=%i' %(Edge_modes[i],order_v[d])))\n",
    "plt.title('$H^1$ errors: increased bubbles')\n",
    "plt.legend()\n",
    "plt.xlabel('Bubbles')"
   ]
  },
  {
   "cell_type": "code",
   "execution_count": null,
   "id": "a8b6e415",
   "metadata": {
    "scrolled": true
   },
   "outputs": [],
   "source": []
  },
  {
   "cell_type": "code",
   "execution_count": null,
   "id": "96c68919",
   "metadata": {
    "scrolled": true
   },
   "outputs": [],
   "source": []
  },
  {
   "cell_type": "code",
   "execution_count": null,
   "id": "4d8e617f",
   "metadata": {
    "scrolled": true
   },
   "outputs": [],
   "source": []
  },
  {
   "cell_type": "code",
   "execution_count": null,
   "id": "d85b5152",
   "metadata": {
    "scrolled": true
   },
   "outputs": [],
   "source": []
  },
  {
   "cell_type": "code",
   "execution_count": null,
   "id": "f003522a",
   "metadata": {
    "scrolled": true
   },
   "outputs": [],
   "source": []
  },
  {
   "cell_type": "code",
   "execution_count": null,
   "id": "918bd8b8",
   "metadata": {
    "scrolled": true
   },
   "outputs": [],
   "source": []
  },
  {
   "cell_type": "markdown",
   "id": "4e1d5948",
   "metadata": {},
   "source": [
    "Old code for bubble and edge modes plots"
   ]
  },
  {
   "cell_type": "code",
   "execution_count": null,
   "id": "1a408091",
   "metadata": {
    "scrolled": true
   },
   "outputs": [],
   "source": [
    "#Bubbles\n",
    "plt.rcParams.update({'font.size':10})\n",
    "for d in range(len(order_v)):\n",
    "    for i in range(len(Edge_modes)):\n",
    "        plt.loglog(Bubble_modes, h1_error[d*len(Edge_modes) + i,:], label=('Edge modes=%i' %Edge_modes[i]))\n",
    "plt.title('$H^1$ errors: increased bubbles deg=%i' %order)\n",
    "plt.legend()\n",
    "plt.xlabel('Bubbles')\n",
    "\n"
   ]
  },
  {
   "cell_type": "code",
   "execution_count": null,
   "id": "eca6b7ff",
   "metadata": {
    "scrolled": true
   },
   "outputs": [],
   "source": [
    "#Edges\n",
    "plt.rcParams.update({'font.size':10})\n",
    "for d in range(len(order_v)):\n",
    "    for i in range(len(Bubble_modes)):\n",
    "        plt.loglog(dofs[d*len(Edge_modes):(d+1)*len(Edge_modes),i], h1_error[d*len(Edge_modes):(d+1)*len(Edge_modes),i], label=('Bubbles=%i' %Bubble_modes[i]))\n",
    "plt.title('$H^1$ errors: increased edge modes deg=%i' %order)\n",
    "plt.legend()\n",
    "plt.xlabel('Edge modes / Dofs')\n"
   ]
  },
  {
   "cell_type": "code",
   "execution_count": null,
   "id": "62527fb5",
   "metadata": {
    "scrolled": true
   },
   "outputs": [],
   "source": []
  }
 ],
 "metadata": {
  "kernelspec": {
   "display_name": "Python 3 (ipykernel)",
   "language": "python",
   "name": "python3"
  },
  "language_info": {
   "codemirror_mode": {
    "name": "ipython",
    "version": 3
   },
   "file_extension": ".py",
   "mimetype": "text/x-python",
   "name": "python",
   "nbconvert_exporter": "python",
   "pygments_lexer": "ipython3",
   "version": "3.11.3"
  }
 },
 "nbformat": 4,
 "nbformat_minor": 5
}
