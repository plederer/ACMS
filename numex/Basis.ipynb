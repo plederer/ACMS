{
 "cells": [
  {
   "cell_type": "code",
   "execution_count": 1,
   "id": "d4dbe2ad",
   "metadata": {},
   "outputs": [],
   "source": [
    "# Libraries\n",
    "from ngsolve import *\n",
    "from netgen.geom2d import SplineGeometry\n",
    "import scipy.linalg\n",
    "import scipy.sparse as sp\n",
    "import numpy as np\n",
    "from ngsolve.webgui import Draw\n"
   ]
  },
  {
   "cell_type": "code",
   "execution_count": 2,
   "id": "7afba266",
   "metadata": {},
   "outputs": [],
   "source": [
    "SetNumThreads(4)\n"
   ]
  },
  {
   "cell_type": "code",
   "execution_count": 3,
   "id": "7258b7ba",
   "metadata": {
    "scrolled": true
   },
   "outputs": [
    {
     "data": {
      "application/vnd.jupyter.widget-view+json": {
       "model_id": "277f885928d045abb26e8e9207e05e33",
       "version_major": 2,
       "version_minor": 0
      },
      "text/plain": [
       "WebGuiWidget(layout=Layout(height='50vh', width='100%'), value={'gui_settings': {}, 'ngsolve_version': '6.2.23…"
      ]
     },
     "metadata": {},
     "output_type": "display_data"
    },
    {
     "name": "stdout",
     "output_type": "stream",
     "text": [
      "261\n",
      "('omega0', 'omega1')\n",
      "('bottom0', 'bottom1', 'right', 'top1', 'top0', 'left', 'middle')\n",
      "('V0', 'V1', 'V2', 'V3', 'V4', 'V5')\n"
     ]
    }
   ],
   "source": [
    "# Setting the geometry\n",
    "\n",
    "geo = SplineGeometry()\n",
    "# Setting global decomposition vertices (coarse mesh)\n",
    "Points = [(0,0), (1,0), (2,0), \n",
    "          (2,1), (1,1), (0,1)]\n",
    "# Setting edgle lables counter-clock wise \n",
    "bcs_edge = [\"bottom0\", \"bottom1\", \"right\", \"top1\", \"top0\", \"left\", \"middle\"]\n",
    "# Labeling vertices V1,...,V6\n",
    "for i, pnt in enumerate(Points):\n",
    "    geo.AddPoint(*pnt, name = \"V\" + str(i))\n",
    "    \n",
    "# Labeling edges by specifying end points, neighbouring domains (counterclock-wise), label\n",
    "geo.Append([\"line\", 0, 1], leftdomain=1, rightdomain=0, bc=\"bottom0\")\n",
    "geo.Append([\"line\", 1, 2], leftdomain=2, rightdomain=0, bc=\"bottom1\")\n",
    "geo.Append([\"line\", 2, 3], leftdomain=2, rightdomain=0, bc=\"right\")\n",
    "geo.Append([\"line\", 3, 4], leftdomain=2, rightdomain=0, bc=\"top1\")\n",
    "geo.Append([\"line\", 4, 5], leftdomain=1, rightdomain=0, bc=\"top0\")\n",
    "geo.Append([\"line\", 5, 0], leftdomain=1, rightdomain=0, bc=\"left\")\n",
    "geo.Append([\"line\", 1, 4], leftdomain=1, rightdomain=2, bc=\"middle\")\n",
    "\n",
    "# ngmesh = unit_square.GenerateMesh(maxh=0.1)\n",
    "mesh = Mesh(geo.GenerateMesh(maxh = 0.1))\n",
    "# Labeling subdomains in coarse mesh\n",
    "mesh.ngmesh.SetMaterial(1,\"omega0\")\n",
    "mesh.ngmesh.SetMaterial(2,\"omega1\")\n",
    "Draw(mesh)\n",
    "print(mesh.nv) # Number of vertices?\n",
    "print(mesh.GetMaterials()) # Subdomains\n",
    "print(mesh.GetBoundaries()) # Edges\n",
    "print(mesh.GetBBoundaries()) # Vertices\n",
    "#input()"
   ]
  },
  {
   "cell_type": "code",
   "execution_count": 4,
   "id": "284b2824",
   "metadata": {},
   "outputs": [],
   "source": [
    "# Basis functions per subdomains (constant for all subdomains)\n",
    "bubble_modes = 5\n",
    "edge_modes = 5\n",
    "\n",
    "# Definition of Sobolev space, order of polynomial approximation can be increased\n",
    "# The Dirichlet condition is imposed everywhere because it will be needed for the basis construction\n",
    "# It does not effectively remove the boundary nodes\n",
    "order = 2 # Polynomial degree of approximation\n",
    "V = H1(mesh, order = order, dirichlet = \".*\")\n",
    "\n",
    "gfu = GridFunction(V)\n"
   ]
  },
  {
   "cell_type": "markdown",
   "id": "a2b53a9c",
   "metadata": {},
   "source": [
    "**Extension operators**\n",
    "\n",
    "We need an extension from $\\Gamma$ to $\\Omega$, which is obtained by combining the extensions of functions from $\\partial\\Omega_j$ to $\\Omega_j$.\n",
    "\n",
    "For a given $\\tau \\in H^{1/2}(\\partial \\Omega_j)$, let $\\tilde \\tau \\in H^1(\\Omega_j)$ be any function satisfying $\\tilde\\tau_{\\mid\\partial\\Omega_j}=\\tau$.\n",
    "Then, we indicate by $\\tilde\\tau_0 \\in H_0^1(\\Omega_j)$ the solution to\n",
    "\n",
    "\\begin{align} \n",
    "    \\mathcal{A}_{j} (\\tilde\\tau_0, v)-(\\kappa^2 \\tilde\\tau_0, v)_{\\Omega_j} = -\\left(\\mathcal{A}_j(\\tilde\\tau,v)-(\\kappa^2 \\tilde\\tau, v)_{\\Omega_j}\\right) \\quad \\forall  v\\in  H_0^1(\\Omega_j).\n",
    "\\end{align}\n",
    "\n",
    "We characterize the $\\mathcal{A}$-harmonic extension $E^{j}:H^{1/2}(\\partial \\Omega_j) \\to H^1(\\Omega_j)$ by setting \n",
    "    $E^{j}\\tau := \\tilde\\tau+\\tilde\\tau_0$.\n",
    "\n",
    "**Lemma** The extension operator $E^{j}:H^{1/2}(\\partial \\Omega_j) \\to H^1(\\Omega_j)$ is bounded, that is,\n",
    "    \\begin{equation}\n",
    "        \\|E^{j}\\tau\\|_{\\mathcal{B}}\\leq (1+\\frac{1}{\\beta^j})\\|\\tilde\\tau\\|_{\\mathcal{B}},\n",
    "    \\end{equation}\n",
    "    where $\\tilde \\tau\\in H^1(\\Omega_j)$ is any extension of $\\tau\\in \\ H^{1/2}(\\partial \\Omega_j)$.\n",
    "    \n",
    "\n",
    "We note the following orthogonality relation, which is a crucial property for the construction of the ACMS  spaces: for all bubble functions $b_i^j \\in H_0^1(\\Omega_j)$, we have\n",
    "\\begin{align}\n",
    "\t\t\\mathcal{A}_{j}(E^j \\tau,b_i^j)-(\\kappa^2 E^j \\tau,b_i^j)_{\\Omega_j}=0.\n",
    "\\end{align}\n",
    "\n",
    "Assume that $e=\\partial\\Omega_j \\cap \\partial\\Omega_i\\in \\mathcal{E}$ is a common edge of $\\Omega_i$ and $\\Omega_j$. Let $\\tau \\in H^{1/2}(\\Gamma)$, which, by restriction, implies $\\tau\\in H^{1/2}(\\partial \\Omega_j)$ and $\\tau\\in H^{1/2}(\\partial \\Omega_i)$.\n",
    "\n",
    "\n",
    "Extension on interface: $E^{\\Gamma} : H^{1/2}(\\Gamma) \\to H^1_D(\\Omega)$ by $(E^{\\Gamma} \\tau)_{\\mid\\Omega_j} = E^{j} \\tau_{\\mid \\partial \\Omega_j}$, for all $j = 1,\\ldots,J$. \n",
    "\n",
    "Extension on edges: $E^{\\Gamma} : H^{1/2}_{00}(e) \\to H^1_D(\\Omega)$ via $E^{\\Gamma} \\tau = E^{\\Gamma} E_0^e\\tau$, where $E_0^e: H^{1/2}_{00}(e)  \\to H^{1/2}(\\Gamma)$ denotes the extension by zero to the interface $\\Gamma$.\n"
   ]
  },
  {
   "cell_type": "code",
   "execution_count": 5,
   "id": "4053c3be",
   "metadata": {},
   "outputs": [],
   "source": [
    "dom_name = 'omega0'\n",
    "fd_all = V.GetDofs(mesh.Materials(dom_name)) # Dofs of specific domain\n",
    "base_space = H1(mesh, order = order, dirichlet = \".*\") #Replicate H^1_0 on subdomain\n",
    "Vharm = Compress(base_space, fd_all) # Restriction to specified dofs\n",
    "uharm, vharm = Vharm.TnT() # Trial and test functions\n",
    "aharm = BilinearForm(Vharm)\n",
    "#Setting bilinear form:  int (Grad u Grad v) d\\Omega_j\n",
    "aharm += grad(uharm)*grad(vharm)*dx(dom_name)\n",
    "aharm.Assemble()\n",
    "# Homogeneous Dirichlet bc because we select FreeDofs (only internal dofs)\n",
    "aharm_inv = aharm.mat.Inverse(Vharm.FreeDofs(), inverse = \"sparsecholesky\")"
   ]
  },
  {
   "cell_type": "code",
   "execution_count": 6,
   "id": "b83be1b4",
   "metadata": {},
   "outputs": [],
   "source": [
    "import matplotlib\n",
    "import matplotlib.pylab as plt\n"
   ]
  },
  {
   "cell_type": "code",
   "execution_count": 7,
   "id": "fbc3c002",
   "metadata": {},
   "outputs": [],
   "source": [
    "A=aharm_inv"
   ]
  },
  {
   "cell_type": "code",
   "execution_count": null,
   "id": "9cd8b5c1",
   "metadata": {},
   "outputs": [],
   "source": []
  },
  {
   "cell_type": "code",
   "execution_count": null,
   "id": "fdbcd333",
   "metadata": {},
   "outputs": [],
   "source": []
  },
  {
   "cell_type": "code",
   "execution_count": 8,
   "id": "cd8130d1",
   "metadata": {},
   "outputs": [],
   "source": [
    "###############################################################\n",
    "# EXTENSIONS\n",
    "\n",
    "edge_extensions = {}\n",
    "vol_extensions = {}\n",
    "\n",
    "# Define harmonic extension on specific subdomain\n",
    "# Returns the Sobolev space H^1_0(\\Omega_j), the stiffness matrix and its inverse\n",
    "def GetHarmonicExtensionDomain(dom_name):\n",
    "    fd_all = V.GetDofs(mesh.Materials(dom_name)) # Dofs of specific domain\n",
    "    base_space = H1(mesh, order = order, dirichlet = \".*\") #Replicate H^1_0 on subdomain\n",
    "    Vharm = Compress(base_space, fd_all) # Restriction to specified dofs\n",
    "    uharm, vharm = Vharm.TnT() # Trial and test functions\n",
    "    aharm = BilinearForm(Vharm)\n",
    "    #Setting bilinear form:  int (Grad u Grad v) d\\Omega_j\n",
    "    aharm += grad(uharm)*grad(vharm)*dx(dom_name)\n",
    "    aharm.Assemble()\n",
    "    # Homogeneous Dirichlet bc because we select FreeDofs (only internal dofs)\n",
    "    aharm_inv = aharm.mat.Inverse(Vharm.FreeDofs(), inverse = \"sparsecholesky\")\n",
    "\n",
    "    # Calc embedding - Local to global mapping\n",
    "    # Computes global indices of local dofs \n",
    "    ind = Vharm.ndof * [0]\n",
    "    ii = 0 # ii = index of local dofs\n",
    "    for i, b in enumerate(fd_all): # i = index of global dofs\n",
    "        if b == True: # If I am on a local dof -> save it and increase counter\n",
    "            ind[ii] = i\n",
    "            ii += 1\n",
    "    E = PermutationMatrix(base_space.ndof, ind) # NGSolve for contructing mapping\n",
    "\n",
    "    return Vharm, aharm.mat, aharm_inv, E\n",
    "\n",
    "\n",
    "# Define harmonic extension on specific subdomain\n",
    "# Returns the Sobolev space H^{1/2}_00(e), the stiffness matrix and its inverse\n",
    "def GetHarmonicExtensionEdge(edge_name):\n",
    "    fd_all = V.GetDofs(mesh.Boundaries(edge_name)) # Dofs of specific edge\n",
    "    bnd = \"\" # Initialize empty boundary \n",
    "    # The space construction requires bc specified on the full domain \n",
    "    # so first we set Dirichlet everywhere and then remove internal vertices on our edge\n",
    "    # This gives the edge vertices with Dirichlet bc\n",
    "    for b in mesh.GetBoundaries():\n",
    "        if (b != edge_name): # If the edge is not our specified edge, then add it to bnd\n",
    "            bnd += b + \"|\"\n",
    "    bnd = bnd[:-1] # Remove the last added \"|\" - unnecessary\n",
    "    base_space = H1(mesh, order = order, dirichlet = bnd)\n",
    "    \n",
    "    #Setting bilinear form:  int (Grad u Grad v) d\"e\". \n",
    "    Vharm = Compress(base_space, fd_all) #Sobolev space H^{1/2}_00(e)\n",
    "    t = specialcf.tangential(2) # Object to be evaluated - Tangential vector along edge (2=dimension)\n",
    "    uharm, vharm = Vharm.TnT()\n",
    "    aharm = BilinearForm(Vharm)\n",
    "    aharm += (grad(uharm)*t) * (grad(vharm)*t) * ds(skeleton = True, definedon=mesh.Boundaries(edge_name))\n",
    "    aharm.Assemble()\n",
    "    # Matrix in inverted only on internal dofs (FreeDofs) so it can be used for all edges\n",
    "    aharm_inv = aharm.mat.Inverse(Vharm.FreeDofs(), inverse = \"sparsecholesky\")\n",
    "\n",
    "    ind = Vharm.ndof * [0]\n",
    "    ii = 0\n",
    "    for i, b in enumerate(fd_all):\n",
    "        if b == True:\n",
    "            ind[ii] = i\n",
    "            ii += 1\n",
    "    E = PermutationMatrix(base_space.ndof, ind)\n",
    "\n",
    "    return Vharm, aharm.mat, aharm_inv, E\n",
    "\n",
    "\n",
    "\n",
    "# Function that computes the harmonic extensions on all subdomains and on all edges (of coarse mesh)\n",
    "# Returns vol_extensions and edge_extensions\n",
    "def CalcHarmonicExtensions():\n",
    "    for dom_name in mesh.GetMaterials():\n",
    "        Vharm, aharm, aharm_inv, E = GetHarmonicExtensionDomain(dom_name)\n",
    "        vol_extensions[dom_name] = [Vharm, aharm, aharm_inv, E]\n",
    "\n",
    "    for edge_name in mesh.GetBoundaries():\n",
    "        Vharm, aharm, aharm_inv, E = GetHarmonicExtensionEdge(edge_name)\n",
    "        edge_extensions[edge_name] = [Vharm, aharm, aharm_inv, E]\n"
   ]
  },
  {
   "cell_type": "markdown",
   "id": "2312dc4c",
   "metadata": {},
   "source": [
    "**Edge basis**\n",
    "\n",
    "Same for elliptic or Helmholtz case (changes the extension).\n",
    "\n",
    "Let us consider $e\\in\\mathcal{E}$ and denote by $\\partial_e$ the tangential derivative, i.e., differentiation along $e$.\n",
    "We define the edge modes as solutions to the following weak formulation of the edge-Laplace eigenvalue problems: for each $e\\in\\mathcal{E}$, for $i \\in \\mathbb{N}$, find $(\\tau^e_i,\\lambda^e_i)\\in H^{1/2}_{00}(e) \\times\\mathbb{R}$ such that\n",
    "\\begin{align}\n",
    "(\\partial_e \\tau^e_i,\\partial_e \\eta)_e =\\lambda^e_i ( \\tau^e_i, \\eta)_e \\quad \\text{for all } \\eta\\in H^{1/2}_{00}(e).\n",
    "\\end{align}"
   ]
  },
  {
   "cell_type": "code",
   "execution_count": null,
   "id": "02264041",
   "metadata": {},
   "outputs": [],
   "source": []
  },
  {
   "cell_type": "code",
   "execution_count": 9,
   "id": "7abb021a",
   "metadata": {},
   "outputs": [],
   "source": [
    "# EDGE MODES\n",
    "\n",
    "def calc_edge_basis(basis):\n",
    "    for edge_name in mesh.GetBoundaries():\n",
    "        vertex_dofs = V.GetDofs(mesh.BBoundaries(\".*\")) # Global vertices (coarse mesh)\n",
    "        fd = V.GetDofs(mesh.Boundaries(edge_name)) & (~vertex_dofs) \n",
    "        # Vertices on a specific edge with boundaries removed (global vertices)\n",
    "        base_space = H1(mesh, order = order, dirichlet = \".*\") # Creating Sobolev space\n",
    "        Vloc = Compress(base_space, fd) #Restricting Sobolev space on edge (with Dirichlet bc)\n",
    "\n",
    "        uloc, vloc = Vloc.TnT() # Trial and test functions\n",
    "        t = specialcf.tangential(2)\n",
    "        #Setting bilinear form:  int (Grad u Grad v) de\n",
    "        aloc = BilinearForm(Vloc)\n",
    "        # This allows us to take the normal derivative of a function that is in H1 and computing the integral only on edges\n",
    "        # Otherwise NGSolve does not allow to take the trace of a function in H^{1/2}(e) - uloc is defined on edge\n",
    "        aloc += (grad(uloc)*t) * (grad(vloc)*t) * ds(skeleton=True, definedon=mesh.Boundaries(edge_name))\n",
    "        aloc.Assemble()\n",
    "        #Setting bilinear form:  int u v de        \n",
    "        mloc = BilinearForm(Vloc)\n",
    "        mloc += uloc.Trace() * vloc.Trace() * ds(edge_name)\n",
    "        mloc.Assemble()\n",
    "\n",
    "        # Solving eigenvalue problem: AA x = ev MM x\n",
    "        AA = sp.csr_matrix(aloc.mat.CSR())\n",
    "        MM = sp.csr_matrix(mloc.mat.CSR())\n",
    "        ev, evec =sp.linalg.eigs(A = AA, M = MM, k = edge_modes, which='SM') # Smallest Eig\n",
    "        evec = evec.transpose()\n",
    "\n",
    "        # Local to global mapping\n",
    "        ind = Vloc.ndof * [0]\n",
    "        ii = 0\n",
    "        for i, b in enumerate(fd):\n",
    "            if b == True:\n",
    "                ind[ii] = i\n",
    "                ii += 1\n",
    "        Eloc = PermutationMatrix(base_space.ndof, ind)\n",
    "\n",
    "        for e in evec: # Going over eigenvectors\n",
    "            # Vloc.Embed(e.real, gfu.vec)\n",
    "            gfu.vec.data = Eloc.T * e.real # Grid funciton on full mesh\n",
    "            #Mapping components?\n",
    "\n",
    "            nb_dom = mesh.Boundaries(edge_name).Neighbours(VOL) # It gives volumes that are neighbours of my edge\n",
    "            gfu_edge = gfu.vec.CreateVector()\n",
    "        \n",
    "            for bi, bb in enumerate(mesh.GetMaterials()):\n",
    "                if nb_dom.Mask()[bi]:\n",
    "                    Vharm, aharm_mat, aharm_inv, E = vol_extensions[bb]\n",
    "                    # gfu_extension gfu_edge are auxiliary functions\n",
    "                    gfu_extension = GridFunction(Vharm) # Grid funciton on specific subdomain\n",
    "                    res = gfu_extension.vec.CreateVector()\n",
    "\n",
    "                    gfu_edge.data = gfu.vec  # Grid funciton on edge\n",
    "                    # Vharm.EmbedTranspose(gfu_edge, gfu_extension.vec)\n",
    "                    # Extension to subdomain * values on edge = function extended to subdomain\n",
    "                    gfu_extension.vec.data = E * gfu_edge \n",
    "                    # Restricting globally defined edge function to the subdomain I want\n",
    "                    \n",
    "                    \n",
    "                    # Harmonic extension on edge\n",
    "                    res = aharm_mat * gfu_extension.vec \n",
    "                    gfu_extension.vec.data = - aharm_inv * res \n",
    "                    #Include Dirichlet bc because we loop over all subdomains to which we want to extend\n",
    "                    # Vharm.Embed(gfu_extension.vec, gfu_edge)\n",
    "                    gfu_edge.data = E.T * gfu_extension.vec\n",
    "                    gfu.vec.data += gfu_edge # Boundary value stored\n",
    "\n",
    "            basis.Append(gfu.vec)\n"
   ]
  },
  {
   "cell_type": "markdown",
   "id": "b5c41ff5",
   "metadata": {},
   "source": [
    "**Vertex basis**\n",
    "\n",
    "**Helmholtz case:** For any $p\\in\\mathcal{V}$, let $\\varphi_p: \\Gamma\\to \\mathbb{R}$ denote a piecewise harmonic function, that is, $\\Delta_e\\varphi_{p\\mid e}=0$ for all $e\\in\\mathcal{E}$, with $\\Delta_e$ indicating the Laplace operator along the edge $e\\in\\mathcal{E}$, and $\\varphi_p(q)=\\delta_{p,q}$ for all $p,q\\in\\mathcal{V}$.\n",
    "The vertex based space is then defined by linear combinations of corresponding  extensions:\n",
    "\\begin{align*}\n",
    "V_{\\mathcal{V}} = {\\rm span}\\{\\, E^{\\Gamma} \\varphi_p \\,:\\, \\ p\\in\\mathcal{V}\\}.\n",
    "\\end{align*}\n",
    "For our error analysis, we will employ the nodal interpolant\n",
    "\\begin{align}\n",
    "I_{\\mathcal{V}} v = \\sum_{p\\in \\mathcal{V}} v(p) \\varphi_p,\n",
    "\\end{align}\n",
    "which is well-defined for functions $v:\\overline{\\Omega}\\to\\mathbb{C}$ that are continuous in all $p\\in \\mathcal{V}$. Moreover, note that the support of the vertex basis functions consists of all subdomains which share the vertex and is therefore local."
   ]
  },
  {
   "cell_type": "code",
   "execution_count": 10,
   "id": "b5061aa5",
   "metadata": {},
   "outputs": [],
   "source": [
    "###############################################################\n",
    "# VERTEX BASIS\n",
    "\n",
    "def calc_vertex_basis(basis):\n",
    "    for j, vertex_name in enumerate(mesh.GetBBoundaries()):\n",
    "        gfu_vertex = gfu.vec.CreateVector() # Initialise grid function for vertices\n",
    "        fd = V.GetDofs(mesh.BBoundaries(vertex_name)) # Gets coarse vertex representation on full mesh\n",
    "\n",
    "        nb_edges = mesh.BBoundaries(vertex_name).Neighbours(BND) # Neighbouring edges (geometric object - region)\n",
    "        nb_dom = mesh.BBoundaries(vertex_name).Neighbours(VOL) # Neighbouring subdomains (geometric object - region)\n",
    "\n",
    "        gfu.vec[:] = 0\n",
    "        gfu.vec[np.nonzero(fd)[0]] = 1 # Set the grid function to one in the current vertex\n",
    "\n",
    "        # First extend to edges\n",
    "        for bi, bb in enumerate(mesh.GetBoundaries()): \n",
    "            if nb_edges.Mask()[bi]: # If the edge is in the neighbourhood of the vertex ... extend\n",
    "                # Vharm, aharm_mat, aharm_inv = GetHarmonicExtensionEdge(bb)\n",
    "                Vharm, aharm_mat, aharm_inv, E = edge_extensions[bb] # Extension to the edge(s)\n",
    "                gfu_extension = GridFunction(Vharm) # Auxiliary function on harmonic space\n",
    "                gfu_extension.vec[:] = 0.0 # Initializing to 0\n",
    "                res = gfu_extension.vec.CreateVector() #\n",
    "                res[:]=0.0\n",
    "                # Set the grid function to one in the current vertex AGAIN. The extension sets it to 0 again.\n",
    "                gfu_vertex[:] = 0\n",
    "                gfu_vertex[np.nonzero(fd)[0]] = 1 \n",
    "\n",
    "                # Extend to current edge\n",
    "                # Q: Why are we using * product which is component-wise\n",
    "                gfu_extension.vec.data = E * gfu_vertex # Extend to current edge\n",
    "                # Vharm.EmbedTranspose(gfu_vertex, gfu_extension.vec)\n",
    "                res.data = aharm_mat * gfu_extension.vec\n",
    "                # # # only harmonic extension to one edge\n",
    "                # # # has zero vertex value! \n",
    "                # Which is why we need to set it again to 1 in every loop\n",
    "                gfu_extension.vec.data = - aharm_inv * res\n",
    "                # Vharm.Embed(gfu_extension.vec, gfu_vertex)\n",
    "                gfu_vertex.data = E.T * gfu_extension.vec\n",
    "                gfu.vec.data += gfu_vertex # Storing the current extension\n",
    "        \n",
    "        gfu_edge = gfu.vec.CreateVector()\n",
    "        \n",
    "        # Then extend to subdomains\n",
    "        for bi, bb in enumerate(mesh.GetMaterials()): \n",
    "            if nb_dom.Mask()[bi]: # If the subdomain is on extended edges.. extend in subdomain\n",
    "                Vharm, aharm_mat, aharm_inv, E = vol_extensions[bb] # Extension to subdomain\n",
    "                gfu_extension = GridFunction(Vharm) # Auxiliary function on harmonic space\n",
    "                gfu_extension.vec[:] = 0.0 # Initializing to 0\n",
    "                res = gfu_extension.vec.CreateVector() #\n",
    "                gfu_edge[:]=0.0 # Initializing to 0\n",
    "                gfu_edge.data = gfu.vec # Storing the edge extensions\n",
    "                # Vharm.EmbedTranspose(gfu_edge, gfu_extension.vec)\n",
    "                \n",
    "                gfu_extension.vec.data = E * gfu_edge \n",
    "                \n",
    "                res.data = aharm_mat * gfu_extension.vec\n",
    "                gfu_extension.vec.data = - aharm_inv * res\n",
    "                # Vharm.Embed(gfu_extension.vec, gfu_edge)\n",
    "                gfu_edge.data = E.T * gfu_extension.vec\n",
    "                gfu.vec.data += gfu_edge\n",
    "\n",
    "        basis.Append(gfu.vec)\n",
    "\n"
   ]
  },
  {
   "cell_type": "markdown",
   "id": "8e26c271",
   "metadata": {},
   "source": [
    "**Bubble functions**\n",
    "\n",
    "\n",
    "**Elliptic case:** Let us define the local bilinear form $\\mathcal{A}{j}: H^1(\\Omega_j) \\times H^1(\\Omega_j) \\to \\mathbb{R}$ with domain of integration $\\Omega_j$ instead of $\\Omega$.\n",
    "Since $\\mathcal{A}_{j}$ is symmetric, we can consider the eigenproblems: for $j=1,...,J$ and $i \\in \\mathbb{N}$, find $(b_i^j,\\lambda_i^j)\\in H_0^1(\\Omega_j) \\times \\mathbb{R}$ such that\n",
    "\\begin{align}\n",
    "\t\\mathcal{A}_{j}(b_i^j,v)= \\lambda_i^j ( b_i^j,v)_{\\Omega_j} \\quad \\forall v \\in H_0^1(\\Omega_j).\n",
    "\\end{align}\n",
    "\n",
    "**Helmholtz case:** Let us define the local sesquilinear form $\\mathcal{A}{j}: H^1(\\Omega_j) \\times H^1(\\Omega_j) \\to \\mathbb{C}$ with domain of integration $\\Omega_j$ instead of $\\Omega$.\n",
    "Since $\\mathcal{A}_{j}$ is Hermitian, we can consider the eigenproblems: for $j=1,...,J$ and $i \\in \\mathbb{N}$, find $(b_i^j,\\lambda_i^j)\\in H)0^1(\\Omega_j) \\times \\mathbb{R}$ such that\n",
    "\\begin{align}\n",
    "\t\\mathcal{A}_{j}(b_i^j,v)= \\lambda_i^j ( {\\kappa^2} b_i^j,v)_{\\Omega_j} \\quad \\forall v \\in H_0^1(\\Omega_j).\n",
    "\\end{align}"
   ]
  },
  {
   "cell_type": "code",
   "execution_count": 11,
   "id": "7bfd5b14",
   "metadata": {},
   "outputs": [],
   "source": [
    "###############################################################\n",
    "# BUBBLE FUNCTIONS\n",
    "\n",
    "def calc_bubble_basis(basis):\n",
    "    for mat_name in mesh.GetMaterials(): # Subdomains labels\n",
    "        # DOFS that are in the interior of the subdomain (excludes edges)\n",
    "        fd = V.GetDofs(mesh.Materials(mat_name)) & V.FreeDofs()\n",
    "        Vloc = Compress(H1(mesh, order = order, dirichlet = \".*\"), fd)\n",
    "\n",
    "        #Setting bilinear form: int (Grad u Grad v) d\\Omega_j\n",
    "        uloc, vloc = Vloc.TnT()\n",
    "        aloc = BilinearForm(Vloc)\n",
    "        aloc += grad(uloc) * grad(vloc) * dx()\n",
    "        aloc.Assemble()\n",
    "\n",
    "        #Setting bilinear form: int  u v d\\Omega_j\n",
    "        mloc = BilinearForm(Vloc)\n",
    "        mloc += uloc * vloc * dx()\n",
    "        mloc.Assemble()\n",
    "\n",
    "        # Solving eigenvalue problem: AA x = ev MM x\n",
    "        AA = sp.csr_matrix(aloc.mat.CSR())\n",
    "        MM = sp.csr_matrix(mloc.mat.CSR())\n",
    "        ev, evec =scipy.sparse.linalg.eigs(A = AA, M = MM, k = bubble_modes, which='SM')\n",
    "        evec = evec.transpose()\n",
    "\n",
    "        # Local to global mapping\n",
    "        ind = Vloc.ndof * [0]\n",
    "        ii = 0\n",
    "        for i, b in enumerate(fd):\n",
    "            if b == True:\n",
    "                ind[ii] = i\n",
    "                ii += 1\n",
    "        E = PermutationMatrix(V.ndof, ind)\n",
    "        \n",
    "        for e in evec: # Going over eigenvectors\n",
    "            gfu.vec[:]=0.0\n",
    "            # Vloc.Embed(e.real, gfu.vec)\n",
    "            gfu.vec.data = E.T * e.real # Grid funciton on full mesh\n",
    "            basis.Append(gfu.vec)\n"
   ]
  },
  {
   "cell_type": "code",
   "execution_count": null,
   "id": "b33db596",
   "metadata": {},
   "outputs": [],
   "source": []
  },
  {
   "cell_type": "code",
   "execution_count": 12,
   "id": "0749a05b",
   "metadata": {},
   "outputs": [],
   "source": [
    "#######################################################################\n",
    "# SYSTEM ASSEMBLY\n",
    "\n",
    "\n",
    "with TaskManager():\n",
    "    basis = MultiVector(gfu.vec, 0) # Initialize\n",
    "\n",
    "    # Compute the basis functions and store them in vector basis\n",
    "    CalcHarmonicExtensions()\n",
    "    calc_vertex_basis(basis)\n",
    "    calc_edge_basis(basis)\n",
    "    calc_bubble_basis(basis)\n",
    "\n",
    "    # for i in range(len(basis)):\n",
    "    #     gfu.vec[:] = 0.0\n",
    "    #     gfu.vec.data = basis[i]\n",
    "    #     Draw(gfu)\n",
    "    #     input()\n",
    "\n",
    "    num = len(basis)\n",
    "\n",
    "\n",
    "\n",
    "    u, v = V.TnT()\n",
    "\n",
    "    dom_bnd = \"bottom0|bottom1|right|top1|top0|left\"\n",
    "\n",
    "    kappa = 0\n",
    "    a = BilinearForm(V)\n",
    "    a += grad(u) * grad(v) * dx\n",
    "    a += - kappa * u * v * dx\n",
    "    a += 10**6 * u * v * ds(dom_bnd) #Penalty on bc\n",
    "    # a += u * v * dx\n",
    "    a.Assemble()\n",
    "\n",
    "    f = LinearForm(V)\n",
    "    f += 1 * v * dx()\n",
    "    f.Assemble()\n",
    "\n",
    "\n",
    "    asmall = InnerProduct (basis, a.mat * basis)\n",
    "    ainvsmall = Matrix(num,num)\n",
    "\n",
    "    f_small = InnerProduct(basis, f.vec)\n",
    "\n",
    "    # print(asmall)\n",
    "    asmall.Inverse(ainvsmall)\n",
    "    usmall = ainvsmall * f_small\n",
    "\n",
    "    gfu.vec[:] = 0.0\n",
    "\n",
    "    gfu.vec.data = basis * usmall\n",
    "\n",
    "\n",
    "\n",
    "    "
   ]
  },
  {
   "cell_type": "code",
   "execution_count": 13,
   "id": "e8aea1eb",
   "metadata": {},
   "outputs": [
    {
     "name": "stdout",
     "output_type": "stream",
     "text": [
      "1\n",
      "2\n",
      "3\n",
      "4\n"
     ]
    }
   ],
   "source": [
    "len(basis)\n",
    "for i in np.arange(1,5):\n",
    "    print(i)"
   ]
  },
  {
   "cell_type": "code",
   "execution_count": 15,
   "id": "159892ac",
   "metadata": {},
   "outputs": [],
   "source": [
    "### big solution\n",
    "ainv = a.mat.Inverse()\n",
    "gfu_ex = GridFunction(V)\n",
    "gfu_ex.vec.data = ainv * f.vec\n"
   ]
  },
  {
   "cell_type": "code",
   "execution_count": null,
   "id": "7e178557",
   "metadata": {},
   "outputs": [],
   "source": [
    "Draw(gfu-gfu_ex, mesh, \"error\")\n",
    "Draw(gfu_ex, mesh, \"gfu_ex\")\n",
    "Draw(gfu, mesh, \"gfu\")"
   ]
  },
  {
   "cell_type": "code",
   "execution_count": 19,
   "id": "dc9a48f3",
   "metadata": {},
   "outputs": [
    {
     "name": "stdout",
     "output_type": "stream",
     "text": [
      "0.00730739908351663\n"
     ]
    }
   ],
   "source": [
    "print(abs(Norm(gfu.vec) -Norm(gfu_ex.vec)) )\n"
   ]
  },
  {
   "cell_type": "code",
   "execution_count": 39,
   "id": "11f07ff9",
   "metadata": {},
   "outputs": [
    {
     "name": "stdout",
     "output_type": "stream",
     "text": [
      "<ngsolve.la.DynamicVectorExpression object at 0x1350c85b0>\n"
     ]
    }
   ],
   "source": [
    "err = gfu.vec - gfu_ex.vec\n",
    "\n",
    "mesh_ref = Mesh(geo.GenerateMesh(maxh = 0.05))\n",
    "V_ref = H1(mesh_ref, order = order, dirichlet = \".*\")\n",
    "\n",
    "gfu_ref = GridFunction(V_ref)\n",
    "gfu_ex_ref = GridFunction(V_ref)\n",
    "\n",
    "\n",
    "a = BilinearForm(V)\n",
    "a += grad(u) * grad(v) * dx\n",
    "a += - kappa * u * v * dx\n",
    "a += 10**6 * u * v * ds(dom_bnd) \n",
    "a.Assemble()\n",
    "\n",
    "\n",
    "print(err)\n",
    "L2err = np.sqrt(InnerProduct (err, a.mat * err))\n"
   ]
  },
  {
   "cell_type": "code",
   "execution_count": 38,
   "id": "c1e5de7a",
   "metadata": {},
   "outputs": [
    {
     "data": {
      "text/plain": [
       "0.002643378340536944"
      ]
     },
     "execution_count": 38,
     "metadata": {},
     "output_type": "execute_result"
    }
   ],
   "source": [
    "InnerProduct (err, a.mat * err)"
   ]
  },
  {
   "cell_type": "code",
   "execution_count": 40,
   "id": "6034c711",
   "metadata": {},
   "outputs": [
    {
     "data": {
      "text/plain": [
       "0.051413795235684984"
      ]
     },
     "execution_count": 40,
     "metadata": {},
     "output_type": "execute_result"
    }
   ],
   "source": [
    "L2err"
   ]
  },
  {
   "cell_type": "code",
   "execution_count": null,
   "id": "f765a8d4",
   "metadata": {},
   "outputs": [],
   "source": [
    "[pf, ef, tf, Uf] = refinemesh(g, p, e, t, u);\n",
    "[Kf, Mf, Ff] = assema(pf, tf, a, c, f);\n",
    "err = Uf - u_ex(pf(1,:), pf(2,:)).';\n",
    "L2err = sqrt(err' * Mf * err); \n",
    "H1err = sqrt(err' * (Mf+Kf) * err);"
   ]
  },
  {
   "cell_type": "code",
   "execution_count": null,
   "id": "df29b661",
   "metadata": {},
   "outputs": [],
   "source": []
  }
 ],
 "metadata": {
  "kernelspec": {
   "display_name": "Python 3 (ipykernel)",
   "language": "python",
   "name": "python3"
  },
  "language_info": {
   "codemirror_mode": {
    "name": "ipython",
    "version": 3
   },
   "file_extension": ".py",
   "mimetype": "text/x-python",
   "name": "python",
   "nbconvert_exporter": "python",
   "pygments_lexer": "ipython3",
   "version": "3.11.3"
  }
 },
 "nbformat": 4,
 "nbformat_minor": 5
}
